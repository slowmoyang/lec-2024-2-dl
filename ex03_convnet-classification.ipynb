{
 "cells": [
  {
   "cell_type": "code",
   "execution_count": 1,
   "id": "45070567-58da-4c33-918d-7be4aff7df40",
   "metadata": {},
   "outputs": [
    {
     "name": "stderr",
     "output_type": "stream",
     "text": [
      "/users/seyang/opt/micromamba/envs/lec-24-2-dl/lib/python3.11/site-packages/tqdm/auto.py:21: TqdmWarning: IProgress not found. Please update jupyter and ipywidgets. See https://ipywidgets.readthedocs.io/en/stable/user_install.html\n",
      "  from .autonotebook import tqdm as notebook_tqdm\n"
     ]
    }
   ],
   "source": [
    "from pathlib import Path\n",
    "import random\n",
    "import numpy as np\n",
    "import torch\n",
    "from torch import nn\n",
    "from torch import Tensor\n",
    "from torch.utils.data import (\n",
    "    Dataset,\n",
    "    DataLoader,\n",
    "    random_split,\n",
    ")\n",
    "import torchvision.transforms.v2 as T\n",
    "from torchvision.transforms.v2.functional import to_pil_image\n",
    "from torchvision.io import read_image\n",
    "from torchvision import models\n",
    "from torchview import draw_graph\n",
    "from sklearn.metrics import (\n",
    "confusion_matrix, ConfusionMatrixDisplay)\n",
    "from kagglehub import dataset_download\n",
    "import tqdm\n",
    "import matplotlib.pyplot as plt\n",
    "\n",
    "\n",
    "plt.rcParams[\"savefig.bbox\"] = 'tight'"
   ]
  },
  {
   "cell_type": "code",
   "execution_count": 2,
   "id": "28b8fe79-789d-46c5-84f8-5ccea2298581",
   "metadata": {},
   "outputs": [],
   "source": [
    "# device = torch.device('cpu')\n",
    "device = torch.device('cuda:1')"
   ]
  },
  {
   "cell_type": "code",
   "execution_count": 3,
   "id": "eb2afbd5-80da-40b8-a73c-2c62416b84ac",
   "metadata": {},
   "outputs": [],
   "source": [
    "torch.set_num_threads(8)"
   ]
  },
  {
   "cell_type": "code",
   "execution_count": 4,
   "id": "36eb4602-b051-4fe7-bb6f-36d28692247a",
   "metadata": {},
   "outputs": [
    {
     "data": {
      "text/plain": [
       "<torch._C.Generator at 0x7f2633f07510>"
      ]
     },
     "execution_count": 4,
     "metadata": {},
     "output_type": "execute_result"
    }
   ],
   "source": [
    "# Set a fixed seed for reproducibility across different libraries\n",
    "seed = 1337\n",
    "random.seed(seed)\n",
    "np.random.seed(seed)\n",
    "torch.manual_seed(seed)"
   ]
  },
  {
   "cell_type": "markdown",
   "id": "2ed13e86-fd54-4ce9-9427-26535e652ccc",
   "metadata": {},
   "source": [
    "# Model"
   ]
  },
  {
   "cell_type": "code",
   "execution_count": null,
   "id": "f23c4872-ede6-4d93-b047-2b22a16e8fb6",
   "metadata": {},
   "outputs": [],
   "source": [
    "class PistachioImageDataset(Dataset):\n",
    "    \"\"\"\n",
    "    This dataset includes images of two types of pistachios: 'Kirmizi_Pistachio' and \n",
    "    'Siirt_Pistachio'. The images are loaded and assigned corresponding labels for use in\n",
    "    machine learning tasks.\n",
    "    \"\"\"\n",
    "\n",
    "    \n",
    "    LABEL_NAME_LIST = [\n",
    "        'Kirmizi_Pistachio',\n",
    "        'Siirt_Pistachio',\n",
    "    ]\n",
    "\n",
    "    def __init__(\n",
    "        self,\n",
    "        transform: T.Transform | None = None,\n",
    "        target_transform: T.Transform | None = None,\n",
    "    ) -> None:\n",
    "        \"\"\"\n",
    "        \"\"\"\n",
    "        self.transform = transform\n",
    "        self.target_transform = target_transform\n",
    "        \n",
    "        \n",
    "        root = dataset_download(\"muratkokludataset/pistachio-image-dataset\")\n",
    "\n",
    "        data_dir = Path(\n",
    "            root,\n",
    "            'Pistachio_Image_Dataset',\n",
    "            'Pistachio_Image_Dataset',\n",
    "        )\n",
    "\n",
    "\n",
    "        # Load images and labels\n",
    "        example_list: list[tuple[Tensor, int]] = []\n",
    "        for label, label_name in enumerate(self.LABEL_NAME_LIST):\n",
    "            label_dir = data_dir / label_name\n",
    "\n",
    "            image_path_list = list(label_dir.glob('*.jpg'))\n",
    "            for image_path in tqdm.tqdm(image_path_list, desc=f'loading {label_name}'):\n",
    "                image = read_image(image_path)\n",
    "                example_list.append((image, label))\n",
    "\n",
    "        self.example_list = example_list\n",
    "\n",
    "    def __len__(self) -> int:\n",
    "        return len(self.example_list)\n",
    "\n",
    "\n",
    "    def __getitem__(self, index: int) -> tuple[Tensor, int]:\n",
    "        image, target = self.example_list[index]\n",
    "        if self.transform is not None:\n",
    "            image = self.transform(image)\n",
    "        if self.target_transform is not None:\n",
    "            target = self.target_transform(target)\n",
    "        return image, target"
   ]
  },
  {
   "cell_type": "code",
   "execution_count": 7,
   "id": "f42012e2-9068-4d53-9823-550b9a565095",
   "metadata": {},
   "outputs": [
    {
     "name": "stderr",
     "output_type": "stream",
     "text": [
      "loading Kirmizi_Pistachio: 100%|██████████████████████████████████████████████████████████████████████████████████████████████| 1232/1232 [00:01<00:00, 677.01it/s]\n",
      "loading Siirt_Pistachio: 100%|██████████████████████████████████████████████████████████████████████████████████████████████████| 916/916 [00:01<00:00, 628.23it/s]\n"
     ]
    }
   ],
   "source": [
    "dataset = PistachioImageDataset()"
   ]
  },
  {
   "cell_type": "code",
   "execution_count": null,
   "id": "b41c322a-2917-413a-9a13-6d134b2996ff",
   "metadata": {},
   "outputs": [],
   "source": [
    "# adapted from https://pytorch.org/vision/stable/auto_examples/others/plot_visualization_utils.html\n",
    "def show(imgs):\n",
    "    \"\"\"\n",
    "    \"\"\"\n",
    "    if not isinstance(imgs, list):\n",
    "        imgs = [imgs]\n",
    "    fig, axs = plt.subplots(ncols=len(imgs), squeeze=False)\n",
    "    for i, img in enumerate(imgs):\n",
    "        img = img.detach()\n",
    "        img = to_pil_image(img)\n",
    "        axs[0, i].imshow(np.asarray(img))\n",
    "        axs[0, i].set(xticklabels=[], yticklabels=[], xticks=[], yticks=[])"
   ]
  },
  {
   "cell_type": "code",
   "execution_count": null,
   "id": "0052b0d9-8198-4f79-8323-9a5e23d605d8",
   "metadata": {},
   "outputs": [
    {
     "data": {
      "image/png": "[encoded data removed]",
      "text/plain": [
       "<Figure size 640x480 with 10 Axes>"
      ]
     },
     "metadata": {},
     "output_type": "display_data"
    }
   ],
   "source": [
    "show([dataset[idx][0] for idx in np.random.randint(low=0, high=len(dataset), size=10)])"
   ]
  },
  {
   "cell_type": "markdown",
   "id": "33ed88d6-6956-4277-b213-59a16d3c7bea",
   "metadata": {},
   "source": [
    "# Preprocessing and Data Augmentation"
   ]
  },
  {
   "cell_type": "markdown",
   "id": "1c6a3ae4-ca5c-48a9-9076-b58909cde5be",
   "metadata": {},
   "source": [
    "## Data Augmentation\n",
    "- RandomResizedCrop: Randomly crops a section of the image, then resizes it to 56x56 pixels.\n",
    "- RandomHorizontalFlip: Randomly flips the image horizontally with a probability of 0.5.\n",
    "\n",
    "## Preprocessing\n",
    "- ToDtype: Converts the image to a tensor of dtype torch.float32 and scales pixel values to [0, 1].\n",
    "- Normalize: Normalizes the image using mean and standard deviation values typical for RGB images. Mean and standard deviation for each channel (RGB) are dreived from ImageNet dataset."
   ]
  },
  {
   "cell_type": "code",
   "execution_count": 9,
   "id": "f7595bdb-90a8-4c26-9228-0632e3d5a77a",
   "metadata": {},
   "outputs": [],
   "source": [
    "dataset.transform = T.Compose([\n",
    "    T.RandomResizedCrop(size=(56, 56), antialias=True),\n",
    "    T.RandomHorizontalFlip(p=0.5),\n",
    "    T.ToDtype(torch.float32, scale=True),\n",
    "    T.Normalize(\n",
    "        mean=[0.485, 0.456, 0.406],\n",
    "        std=[0.229, 0.224, 0.225]\n",
    "    ),\n",
    "])"
   ]
  },
  {
   "cell_type": "code",
   "execution_count": 10,
   "id": "c48006bf-4518-404f-8c45-f65ea05d5f34",
   "metadata": {},
   "outputs": [
    {
     "data": {
      "image/png": "[encoded data removed]",
      "text/plain": [
       "<Figure size 640x480 with 10 Axes>"
      ]
     },
     "metadata": {},
     "output_type": "display_data"
    }
   ],
   "source": [
    "show([dataset[idx][0] for idx in np.random.randint(low=0, high=len(dataset), size=10)])"
   ]
  },
  {
   "cell_type": "markdown",
   "id": "0669cd3d-1ddc-4e2d-b487-d1f1b334e9e1",
   "metadata": {},
   "source": [
    "# Dataset splitting"
   ]
  },
  {
   "cell_type": "code",
   "execution_count": 11,
   "id": "812c5263-43aa-492d-a865-d03ee5e3666e",
   "metadata": {},
   "outputs": [],
   "source": [
    "train_set, val_set, test_set = random_split(\n",
    "    dataset=dataset,\n",
    "    lengths=[0.64, 0.16, 0.20],\n",
    "    generator=torch.Generator().manual_seed(1337),\n",
    ")"
   ]
  },
  {
   "cell_type": "markdown",
   "id": "aa0717cc-c727-413a-9ff0-1aedbd282a04",
   "metadata": {},
   "source": [
    "# Model"
   ]
  },
  {
   "cell_type": "code",
   "execution_count": 12,
   "id": "4d7079d8-fe69-4420-bdbc-202ccbed51ca",
   "metadata": {},
   "outputs": [],
   "source": [
    "class PistachioImageClassifier(nn.Module):\n",
    "    \"\"\"\n",
    "    A neural network model for classifying pistachio images.\n",
    "\n",
    "    This classifier uses a specified backbone model for feature extraction, followed\n",
    "    by a linear classification head that outputs a single logit for binary classification.\n",
    "\n",
    "    Attributes:\n",
    "        backbone (nn.Module): The feature extraction model (e.g., a pretrained CNN).\n",
    "        classification_head (nn.Linear): A linear layer that maps extracted features to a single output.\n",
    "    \"\"\"\n",
    "\n",
    "    def __init__(\n",
    "        self, \n",
    "        backbone,\n",
    "    ) -> None:\n",
    "        \"\"\"\n",
    "        Initializes the PistachioImageClassifier.\n",
    "\n",
    "        Args:\n",
    "            backbone (Module): A neural network model used as the backbone for feature extraction.\n",
    "        \"\"\"\n",
    "        super().__init__()\n",
    "\n",
    "        # The backbone network takes \n",
    "        self.backbone = backbone\n",
    "\n",
    "        # Define the classification head with 1000 input features and 1 output feature (binary classification).\n",
    "        self.classification_head = nn.Linear(\n",
    "            in_features=1000,\n",
    "            out_features=1\n",
    "        )\n",
    "\n",
    "    def forward(\n",
    "        self,\n",
    "        input: Tensor,\n",
    "    ) -> Tensor:\n",
    "        \"\"\"\n",
    "        Defines the forward pass of the model.\n",
    "\n",
    "        Args:\n",
    "            input (Tensor): The input tensor containing images, with shape (batch_size, channels, height, width).\n",
    "\n",
    "        Returns:\n",
    "            Tensor: The output logits tensor of shape (batch_size,), representing classification scores.\n",
    "        \"\"\"\n",
    "        # Extract features using the backbone\n",
    "        embed = self.backbone(input)\n",
    "    \n",
    "        logits = self.classification_head(embed)\n",
    "\n",
    "        # Squeeze logits to remove extra dimensions\n",
    "        logits = logits.squeeze()\n",
    "        return logits"
   ]
  },
  {
   "cell_type": "markdown",
   "id": "946c42fc-b22e-4c80-84ea-082e9392768e",
   "metadata": {},
   "source": [
    "Initialize a ResNet-18 model as the backbone for feature extraction, pre-trained on the ImageNet dataset for improved initial performance.\n",
    "\n",
    "Alternatively, you can use EfficientNet-B0 as the backbone by uncommenting the lines below.\n",
    "This model is also pre-trained on ImageNet and is more lightweight, which can be beneficial for lower-compute environments or when a smaller model is preferred."
   ]
  },
  {
   "cell_type": "code",
   "execution_count": 13,
   "id": "d150cfd6-d6a0-4b97-a9f9-62ca39198929",
   "metadata": {},
   "outputs": [],
   "source": [
    "backbone = models.resnet18(weights=models.ResNet18_Weights.IMAGENET1K_V1)\n",
    "# backbone = models.efficientnet_b0(weights=models.EfficientNet_B0_Weights.IMAGENET1K_V1)"
   ]
  },
  {
   "cell_type": "markdown",
   "id": "6c3da9ab-cf93-4b03-b439-543e7a2f5386",
   "metadata": {},
   "source": [
    "Create an instance of the PistachioImageClassifier, using the ResNet-18 backbone to extract features, and add a classification head for pistachio classification"
   ]
  },
  {
   "cell_type": "code",
   "execution_count": 14,
   "id": "574fb136-bb6b-491d-b533-01a6e9c5834a",
   "metadata": {},
   "outputs": [],
   "source": [
    "model = PistachioImageClassifier(\n",
    "    backbone=backbone,\n",
    ")"
   ]
  },
  {
   "cell_type": "markdown",
   "id": "7ff8afec-3bce-431d-8327-f07c10c04140",
   "metadata": {},
   "source": [
    "Move the model to the specified device (e.g., GPU or CPU)"
   ]
  },
  {
   "cell_type": "code",
   "execution_count": 24,
   "id": "f159e404-e1db-4e7f-ad79-0fec0a999457",
   "metadata": {},
   "outputs": [],
   "source": [
    "model = model.to(device)"
   ]
  },
  {
   "cell_type": "code",
   "execution_count": 16,
   "id": "6b6e73a5-8d88-438e-8cd2-9ff91d87b56a",
   "metadata": {},
   "outputs": [
    {
     "name": "stdout",
     "output_type": "stream",
     "text": [
      "11.7M parameters\n"
     ]
    }
   ],
   "source": [
    "num_parameters = sum(each.numel() for each in model.parameters() if each.requires_grad)\n",
    "print(f'{num_parameters / 1e6:.1f}M parameters')"
   ]
  },
  {
   "cell_type": "code",
   "execution_count": 17,
   "id": "aee04366-89e4-42b3-ab05-b1fb2dd21948",
   "metadata": {},
   "outputs": [
    {
     "data": {
      "image/svg+xml": [
       "<?xml version=\"1.0\" encoding=\"UTF-8\" standalone=\"no\"?>\n",
       "<!DOCTYPE svg PUBLIC \"-//W3C//DTD SVG 1.1//EN\"\n",
       " \"http://www.w3.org/Graphics/SVG/1.1/DTD/svg11.dtd\">\n",
       "<!-- Generated by graphviz version 2.44.0 (0)\n",
       " -->\n",
       "<!-- Title: model Pages: 1 -->\n",
       "<svg width=\"146pt\" height=\"864pt\"\n",
       " viewBox=\"0.00 0.00 145.81 864.00\" xmlns=\"http://www.w3.org/2000/svg\" xmlns:xlink=\"http://www.w3.org/1999/xlink\">\n",
       "<g id=\"graph0\" class=\"graph\" transform=\"scale(0.6 0.6) rotate(0) translate(4 1430)\">\n",
       "<title>model</title>\n",
       "<polygon fill=\"white\" stroke=\"transparent\" points=\"-4,4 -4,-1430 238,-1430 238,4 -4,4\"/>\n",
       "<!-- 0 -->\n",
       "<g id=\"node1\" class=\"node\">\n",
       "<title>0</title>\n",
       "<polygon fill=\"lightyellow\" stroke=\"transparent\" points=\"191,-1426 43,-1426 43,-1394 191,-1394 191,-1426\"/>\n",
       "<polygon fill=\"none\" stroke=\"black\" points=\"43,-1394 43,-1426 113,-1426 113,-1394 43,-1394\"/>\n",
       "<text text-anchor=\"start\" x=\"48\" y=\"-1413\" font-family=\"Linux libertine\" font-size=\"10.00\">input&#45;tensor</text>\n",
       "<text text-anchor=\"start\" x=\"59.5\" y=\"-1402\" font-family=\"Linux libertine\" font-size=\"10.00\">depth:0</text>\n",
       "<polygon fill=\"none\" stroke=\"black\" points=\"113,-1394 113,-1426 191,-1426 191,-1394 113,-1394\"/>\n",
       "<text text-anchor=\"start\" x=\"118\" y=\"-1407.5\" font-family=\"Linux libertine\" font-size=\"10.00\">(10, 3, 56, 56)</text>\n",
       "</g>\n",
       "<!-- 1 -->\n",
       "<g id=\"node2\" class=\"node\">\n",
       "<title>1</title>\n",
       "<polygon fill=\"#c1ffc1\" stroke=\"transparent\" points=\"208,-1358 26,-1358 26,-1316 208,-1316 208,-1358\"/>\n",
       "<polygon fill=\"none\" stroke=\"black\" points=\"26,-1316 26,-1358 73,-1358 73,-1316 26,-1316\"/>\n",
       "<text text-anchor=\"start\" x=\"31\" y=\"-1340\" font-family=\"Linux libertine\" font-size=\"10.00\">Conv2d</text>\n",
       "<text text-anchor=\"start\" x=\"31\" y=\"-1329\" font-family=\"Linux libertine\" font-size=\"10.00\">depth:2</text>\n",
       "<polygon fill=\"none\" stroke=\"black\" points=\"73,-1337 73,-1358 121,-1358 121,-1337 73,-1337\"/>\n",
       "<text text-anchor=\"start\" x=\"83\" y=\"-1345\" font-family=\"Linux libertine\" font-size=\"10.00\">input:</text>\n",
       "<polygon fill=\"none\" stroke=\"black\" points=\"121,-1337 121,-1358 208,-1358 208,-1337 121,-1337\"/>\n",
       "<text text-anchor=\"start\" x=\"129\" y=\"-1345\" font-family=\"Linux libertine\" font-size=\"10.00\">(10, 3, 56, 56) </text>\n",
       "<polygon fill=\"none\" stroke=\"black\" points=\"73,-1316 73,-1337 121,-1337 121,-1316 73,-1316\"/>\n",
       "<text text-anchor=\"start\" x=\"78\" y=\"-1324\" font-family=\"Linux libertine\" font-size=\"10.00\">output: </text>\n",
       "<polygon fill=\"none\" stroke=\"black\" points=\"121,-1316 121,-1337 208,-1337 208,-1316 121,-1316\"/>\n",
       "<text text-anchor=\"start\" x=\"126\" y=\"-1324\" font-family=\"Linux libertine\" font-size=\"10.00\">(10, 64, 28, 28) </text>\n",
       "</g>\n",
       "<!-- 0&#45;&gt;1 -->\n",
       "<g id=\"edge1\" class=\"edge\">\n",
       "<title>0&#45;&gt;1</title>\n",
       "<path fill=\"none\" stroke=\"black\" d=\"M117,-1393.94C117,-1386.45 117,-1377.12 117,-1368.24\"/>\n",
       "<polygon fill=\"black\" stroke=\"black\" points=\"120.5,-1368.16 117,-1358.16 113.5,-1368.16 120.5,-1368.16\"/>\n",
       "</g>\n",
       "<!-- 2 -->\n",
       "<g id=\"node3\" class=\"node\">\n",
       "<title>2</title>\n",
       "<polygon fill=\"#c1ffc1\" stroke=\"transparent\" points=\"223,-1280 11,-1280 11,-1238 223,-1238 223,-1280\"/>\n",
       "<polygon fill=\"none\" stroke=\"black\" points=\"11,-1238 11,-1280 88,-1280 88,-1238 11,-1238\"/>\n",
       "<text text-anchor=\"start\" x=\"16\" y=\"-1262\" font-family=\"Linux libertine\" font-size=\"10.00\">BatchNorm2d</text>\n",
       "<text text-anchor=\"start\" x=\"31\" y=\"-1251\" font-family=\"Linux libertine\" font-size=\"10.00\">depth:2</text>\n",
       "<polygon fill=\"none\" stroke=\"black\" points=\"88,-1259 88,-1280 136,-1280 136,-1259 88,-1259\"/>\n",
       "<text text-anchor=\"start\" x=\"98\" y=\"-1267\" font-family=\"Linux libertine\" font-size=\"10.00\">input:</text>\n",
       "<polygon fill=\"none\" stroke=\"black\" points=\"136,-1259 136,-1280 223,-1280 223,-1259 136,-1259\"/>\n",
       "<text text-anchor=\"start\" x=\"141\" y=\"-1267\" font-family=\"Linux libertine\" font-size=\"10.00\">(10, 64, 28, 28) </text>\n",
       "<polygon fill=\"none\" stroke=\"black\" points=\"88,-1238 88,-1259 136,-1259 136,-1238 88,-1238\"/>\n",
       "<text text-anchor=\"start\" x=\"93\" y=\"-1246\" font-family=\"Linux libertine\" font-size=\"10.00\">output: </text>\n",
       "<polygon fill=\"none\" stroke=\"black\" points=\"136,-1238 136,-1259 223,-1259 223,-1238 136,-1238\"/>\n",
       "<text text-anchor=\"start\" x=\"141\" y=\"-1246\" font-family=\"Linux libertine\" font-size=\"10.00\">(10, 64, 28, 28) </text>\n",
       "</g>\n",
       "<!-- 1&#45;&gt;2 -->\n",
       "<g id=\"edge2\" class=\"edge\">\n",
       "<title>1&#45;&gt;2</title>\n",
       "<path fill=\"none\" stroke=\"black\" d=\"M117,-1315.63C117,-1307.82 117,-1298.73 117,-1290.18\"/>\n",
       "<polygon fill=\"black\" stroke=\"black\" points=\"120.5,-1290.16 117,-1280.16 113.5,-1290.16 120.5,-1290.16\"/>\n",
       "</g>\n",
       "<!-- 3 -->\n",
       "<g id=\"node4\" class=\"node\">\n",
       "<title>3</title>\n",
       "<polygon fill=\"#c1ffc1\" stroke=\"transparent\" points=\"208,-1202 26,-1202 26,-1160 208,-1160 208,-1202\"/>\n",
       "<polygon fill=\"none\" stroke=\"black\" points=\"26,-1160 26,-1202 73,-1202 73,-1160 26,-1160\"/>\n",
       "<text text-anchor=\"start\" x=\"36.5\" y=\"-1184\" font-family=\"Linux libertine\" font-size=\"10.00\">ReLU</text>\n",
       "<text text-anchor=\"start\" x=\"31\" y=\"-1173\" font-family=\"Linux libertine\" font-size=\"10.00\">depth:2</text>\n",
       "<polygon fill=\"none\" stroke=\"black\" points=\"73,-1181 73,-1202 121,-1202 121,-1181 73,-1181\"/>\n",
       "<text text-anchor=\"start\" x=\"83\" y=\"-1189\" font-family=\"Linux libertine\" font-size=\"10.00\">input:</text>\n",
       "<polygon fill=\"none\" stroke=\"black\" points=\"121,-1181 121,-1202 208,-1202 208,-1181 121,-1181\"/>\n",
       "<text text-anchor=\"start\" x=\"126\" y=\"-1189\" font-family=\"Linux libertine\" font-size=\"10.00\">(10, 64, 28, 28) </text>\n",
       "<polygon fill=\"none\" stroke=\"black\" points=\"73,-1160 73,-1181 121,-1181 121,-1160 73,-1160\"/>\n",
       "<text text-anchor=\"start\" x=\"78\" y=\"-1168\" font-family=\"Linux libertine\" font-size=\"10.00\">output: </text>\n",
       "<polygon fill=\"none\" stroke=\"black\" points=\"121,-1160 121,-1181 208,-1181 208,-1160 121,-1160\"/>\n",
       "<text text-anchor=\"start\" x=\"126\" y=\"-1168\" font-family=\"Linux libertine\" font-size=\"10.00\">(10, 64, 28, 28) </text>\n",
       "</g>\n",
       "<!-- 2&#45;&gt;3 -->\n",
       "<g id=\"edge3\" class=\"edge\">\n",
       "<title>2&#45;&gt;3</title>\n",
       "<path fill=\"none\" stroke=\"black\" d=\"M117,-1237.63C117,-1229.82 117,-1220.73 117,-1212.18\"/>\n",
       "<polygon fill=\"black\" stroke=\"black\" points=\"120.5,-1212.16 117,-1202.16 113.5,-1212.16 120.5,-1212.16\"/>\n",
       "</g>\n",
       "<!-- 4 -->\n",
       "<g id=\"node5\" class=\"node\">\n",
       "<title>4</title>\n",
       "<polygon fill=\"#c1ffc1\" stroke=\"transparent\" points=\"217,-1124 17,-1124 17,-1082 217,-1082 217,-1124\"/>\n",
       "<polygon fill=\"none\" stroke=\"black\" points=\"17,-1082 17,-1124 82,-1124 82,-1082 17,-1082\"/>\n",
       "<text text-anchor=\"start\" x=\"22\" y=\"-1106\" font-family=\"Linux libertine\" font-size=\"10.00\">MaxPool2d</text>\n",
       "<text text-anchor=\"start\" x=\"31\" y=\"-1095\" font-family=\"Linux libertine\" font-size=\"10.00\">depth:2</text>\n",
       "<polygon fill=\"none\" stroke=\"black\" points=\"82,-1103 82,-1124 130,-1124 130,-1103 82,-1103\"/>\n",
       "<text text-anchor=\"start\" x=\"92\" y=\"-1111\" font-family=\"Linux libertine\" font-size=\"10.00\">input:</text>\n",
       "<polygon fill=\"none\" stroke=\"black\" points=\"130,-1103 130,-1124 217,-1124 217,-1103 130,-1103\"/>\n",
       "<text text-anchor=\"start\" x=\"135\" y=\"-1111\" font-family=\"Linux libertine\" font-size=\"10.00\">(10, 64, 28, 28) </text>\n",
       "<polygon fill=\"none\" stroke=\"black\" points=\"82,-1082 82,-1103 130,-1103 130,-1082 82,-1082\"/>\n",
       "<text text-anchor=\"start\" x=\"87\" y=\"-1090\" font-family=\"Linux libertine\" font-size=\"10.00\">output: </text>\n",
       "<polygon fill=\"none\" stroke=\"black\" points=\"130,-1082 130,-1103 217,-1103 217,-1082 130,-1082\"/>\n",
       "<text text-anchor=\"start\" x=\"135\" y=\"-1090\" font-family=\"Linux libertine\" font-size=\"10.00\">(10, 64, 14, 14) </text>\n",
       "</g>\n",
       "<!-- 3&#45;&gt;4 -->\n",
       "<g id=\"edge4\" class=\"edge\">\n",
       "<title>3&#45;&gt;4</title>\n",
       "<path fill=\"none\" stroke=\"black\" d=\"M117,-1159.63C117,-1151.82 117,-1142.73 117,-1134.18\"/>\n",
       "<polygon fill=\"black\" stroke=\"black\" points=\"120.5,-1134.16 117,-1124.16 113.5,-1134.16 120.5,-1134.16\"/>\n",
       "</g>\n",
       "<!-- 5 -->\n",
       "<g id=\"node6\" class=\"node\">\n",
       "<title>5</title>\n",
       "<polygon fill=\"#c1ffc1\" stroke=\"transparent\" points=\"216.5,-1046 17.5,-1046 17.5,-1004 216.5,-1004 216.5,-1046\"/>\n",
       "<polygon fill=\"none\" stroke=\"black\" points=\"18,-1004 18,-1046 82,-1046 82,-1004 18,-1004\"/>\n",
       "<text text-anchor=\"start\" x=\"23\" y=\"-1028\" font-family=\"Linux libertine\" font-size=\"10.00\">BasicBlock</text>\n",
       "<text text-anchor=\"start\" x=\"31.5\" y=\"-1017\" font-family=\"Linux libertine\" font-size=\"10.00\">depth:3</text>\n",
       "<polygon fill=\"none\" stroke=\"black\" points=\"82,-1025 82,-1046 130,-1046 130,-1025 82,-1025\"/>\n",
       "<text text-anchor=\"start\" x=\"92\" y=\"-1033\" font-family=\"Linux libertine\" font-size=\"10.00\">input:</text>\n",
       "<polygon fill=\"none\" stroke=\"black\" points=\"130,-1025 130,-1046 217,-1046 217,-1025 130,-1025\"/>\n",
       "<text text-anchor=\"start\" x=\"135\" y=\"-1033\" font-family=\"Linux libertine\" font-size=\"10.00\">(10, 64, 14, 14) </text>\n",
       "<polygon fill=\"none\" stroke=\"black\" points=\"82,-1004 82,-1025 130,-1025 130,-1004 82,-1004\"/>\n",
       "<text text-anchor=\"start\" x=\"87\" y=\"-1012\" font-family=\"Linux libertine\" font-size=\"10.00\">output: </text>\n",
       "<polygon fill=\"none\" stroke=\"black\" points=\"130,-1004 130,-1025 217,-1025 217,-1004 130,-1004\"/>\n",
       "<text text-anchor=\"start\" x=\"135\" y=\"-1012\" font-family=\"Linux libertine\" font-size=\"10.00\">(10, 64, 14, 14) </text>\n",
       "</g>\n",
       "<!-- 4&#45;&gt;5 -->\n",
       "<g id=\"edge5\" class=\"edge\">\n",
       "<title>4&#45;&gt;5</title>\n",
       "<path fill=\"none\" stroke=\"black\" d=\"M117,-1081.63C117,-1073.82 117,-1064.73 117,-1056.18\"/>\n",
       "<polygon fill=\"black\" stroke=\"black\" points=\"120.5,-1056.16 117,-1046.16 113.5,-1056.16 120.5,-1056.16\"/>\n",
       "</g>\n",
       "<!-- 6 -->\n",
       "<g id=\"node7\" class=\"node\">\n",
       "<title>6</title>\n",
       "<polygon fill=\"#c1ffc1\" stroke=\"transparent\" points=\"216.5,-968 17.5,-968 17.5,-926 216.5,-926 216.5,-968\"/>\n",
       "<polygon fill=\"none\" stroke=\"black\" points=\"18,-926 18,-968 82,-968 82,-926 18,-926\"/>\n",
       "<text text-anchor=\"start\" x=\"23\" y=\"-950\" font-family=\"Linux libertine\" font-size=\"10.00\">BasicBlock</text>\n",
       "<text text-anchor=\"start\" x=\"31.5\" y=\"-939\" font-family=\"Linux libertine\" font-size=\"10.00\">depth:3</text>\n",
       "<polygon fill=\"none\" stroke=\"black\" points=\"82,-947 82,-968 130,-968 130,-947 82,-947\"/>\n",
       "<text text-anchor=\"start\" x=\"92\" y=\"-955\" font-family=\"Linux libertine\" font-size=\"10.00\">input:</text>\n",
       "<polygon fill=\"none\" stroke=\"black\" points=\"130,-947 130,-968 217,-968 217,-947 130,-947\"/>\n",
       "<text text-anchor=\"start\" x=\"135\" y=\"-955\" font-family=\"Linux libertine\" font-size=\"10.00\">(10, 64, 14, 14) </text>\n",
       "<polygon fill=\"none\" stroke=\"black\" points=\"82,-926 82,-947 130,-947 130,-926 82,-926\"/>\n",
       "<text text-anchor=\"start\" x=\"87\" y=\"-934\" font-family=\"Linux libertine\" font-size=\"10.00\">output: </text>\n",
       "<polygon fill=\"none\" stroke=\"black\" points=\"130,-926 130,-947 217,-947 217,-926 130,-926\"/>\n",
       "<text text-anchor=\"start\" x=\"135\" y=\"-934\" font-family=\"Linux libertine\" font-size=\"10.00\">(10, 64, 14, 14) </text>\n",
       "</g>\n",
       "<!-- 5&#45;&gt;6 -->\n",
       "<g id=\"edge6\" class=\"edge\">\n",
       "<title>5&#45;&gt;6</title>\n",
       "<path fill=\"none\" stroke=\"black\" d=\"M117,-1003.63C117,-995.82 117,-986.73 117,-978.18\"/>\n",
       "<polygon fill=\"black\" stroke=\"black\" points=\"120.5,-978.16 117,-968.16 113.5,-978.16 120.5,-978.16\"/>\n",
       "</g>\n",
       "<!-- 7 -->\n",
       "<g id=\"node8\" class=\"node\">\n",
       "<title>7</title>\n",
       "<polygon fill=\"#c1ffc1\" stroke=\"transparent\" points=\"216.5,-890 17.5,-890 17.5,-848 216.5,-848 216.5,-890\"/>\n",
       "<polygon fill=\"none\" stroke=\"black\" points=\"18,-848 18,-890 82,-890 82,-848 18,-848\"/>\n",
       "<text text-anchor=\"start\" x=\"23\" y=\"-872\" font-family=\"Linux libertine\" font-size=\"10.00\">BasicBlock</text>\n",
       "<text text-anchor=\"start\" x=\"31.5\" y=\"-861\" font-family=\"Linux libertine\" font-size=\"10.00\">depth:3</text>\n",
       "<polygon fill=\"none\" stroke=\"black\" points=\"82,-869 82,-890 130,-890 130,-869 82,-869\"/>\n",
       "<text text-anchor=\"start\" x=\"92\" y=\"-877\" font-family=\"Linux libertine\" font-size=\"10.00\">input:</text>\n",
       "<polygon fill=\"none\" stroke=\"black\" points=\"130,-869 130,-890 217,-890 217,-869 130,-869\"/>\n",
       "<text text-anchor=\"start\" x=\"135\" y=\"-877\" font-family=\"Linux libertine\" font-size=\"10.00\">(10, 64, 14, 14) </text>\n",
       "<polygon fill=\"none\" stroke=\"black\" points=\"82,-848 82,-869 130,-869 130,-848 82,-848\"/>\n",
       "<text text-anchor=\"start\" x=\"87\" y=\"-856\" font-family=\"Linux libertine\" font-size=\"10.00\">output: </text>\n",
       "<polygon fill=\"none\" stroke=\"black\" points=\"130,-848 130,-869 217,-869 217,-848 130,-848\"/>\n",
       "<text text-anchor=\"start\" x=\"138\" y=\"-856\" font-family=\"Linux libertine\" font-size=\"10.00\">(10, 128, 7, 7) </text>\n",
       "</g>\n",
       "<!-- 6&#45;&gt;7 -->\n",
       "<g id=\"edge7\" class=\"edge\">\n",
       "<title>6&#45;&gt;7</title>\n",
       "<path fill=\"none\" stroke=\"black\" d=\"M117,-925.63C117,-917.82 117,-908.73 117,-900.18\"/>\n",
       "<polygon fill=\"black\" stroke=\"black\" points=\"120.5,-900.16 117,-890.16 113.5,-900.16 120.5,-900.16\"/>\n",
       "</g>\n",
       "<!-- 8 -->\n",
       "<g id=\"node9\" class=\"node\">\n",
       "<title>8</title>\n",
       "<polygon fill=\"#c1ffc1\" stroke=\"transparent\" points=\"213.5,-812 20.5,-812 20.5,-770 213.5,-770 213.5,-812\"/>\n",
       "<polygon fill=\"none\" stroke=\"black\" points=\"21,-770 21,-812 85,-812 85,-770 21,-770\"/>\n",
       "<text text-anchor=\"start\" x=\"26\" y=\"-794\" font-family=\"Linux libertine\" font-size=\"10.00\">BasicBlock</text>\n",
       "<text text-anchor=\"start\" x=\"34.5\" y=\"-783\" font-family=\"Linux libertine\" font-size=\"10.00\">depth:3</text>\n",
       "<polygon fill=\"none\" stroke=\"black\" points=\"85,-791 85,-812 133,-812 133,-791 85,-791\"/>\n",
       "<text text-anchor=\"start\" x=\"95\" y=\"-799\" font-family=\"Linux libertine\" font-size=\"10.00\">input:</text>\n",
       "<polygon fill=\"none\" stroke=\"black\" points=\"133,-791 133,-812 214,-812 214,-791 133,-791\"/>\n",
       "<text text-anchor=\"start\" x=\"138\" y=\"-799\" font-family=\"Linux libertine\" font-size=\"10.00\">(10, 128, 7, 7) </text>\n",
       "<polygon fill=\"none\" stroke=\"black\" points=\"85,-770 85,-791 133,-791 133,-770 85,-770\"/>\n",
       "<text text-anchor=\"start\" x=\"90\" y=\"-778\" font-family=\"Linux libertine\" font-size=\"10.00\">output: </text>\n",
       "<polygon fill=\"none\" stroke=\"black\" points=\"133,-770 133,-791 214,-791 214,-770 133,-770\"/>\n",
       "<text text-anchor=\"start\" x=\"138\" y=\"-778\" font-family=\"Linux libertine\" font-size=\"10.00\">(10, 128, 7, 7) </text>\n",
       "</g>\n",
       "<!-- 7&#45;&gt;8 -->\n",
       "<g id=\"edge8\" class=\"edge\">\n",
       "<title>7&#45;&gt;8</title>\n",
       "<path fill=\"none\" stroke=\"black\" d=\"M117,-847.63C117,-839.82 117,-830.73 117,-822.18\"/>\n",
       "<polygon fill=\"black\" stroke=\"black\" points=\"120.5,-822.16 117,-812.16 113.5,-822.16 120.5,-822.16\"/>\n",
       "</g>\n",
       "<!-- 9 -->\n",
       "<g id=\"node10\" class=\"node\">\n",
       "<title>9</title>\n",
       "<polygon fill=\"#c1ffc1\" stroke=\"transparent\" points=\"213.5,-734 20.5,-734 20.5,-692 213.5,-692 213.5,-734\"/>\n",
       "<polygon fill=\"none\" stroke=\"black\" points=\"21,-692 21,-734 85,-734 85,-692 21,-692\"/>\n",
       "<text text-anchor=\"start\" x=\"26\" y=\"-716\" font-family=\"Linux libertine\" font-size=\"10.00\">BasicBlock</text>\n",
       "<text text-anchor=\"start\" x=\"34.5\" y=\"-705\" font-family=\"Linux libertine\" font-size=\"10.00\">depth:3</text>\n",
       "<polygon fill=\"none\" stroke=\"black\" points=\"85,-713 85,-734 133,-734 133,-713 85,-713\"/>\n",
       "<text text-anchor=\"start\" x=\"95\" y=\"-721\" font-family=\"Linux libertine\" font-size=\"10.00\">input:</text>\n",
       "<polygon fill=\"none\" stroke=\"black\" points=\"133,-713 133,-734 214,-734 214,-713 133,-713\"/>\n",
       "<text text-anchor=\"start\" x=\"138\" y=\"-721\" font-family=\"Linux libertine\" font-size=\"10.00\">(10, 128, 7, 7) </text>\n",
       "<polygon fill=\"none\" stroke=\"black\" points=\"85,-692 85,-713 133,-713 133,-692 85,-692\"/>\n",
       "<text text-anchor=\"start\" x=\"90\" y=\"-700\" font-family=\"Linux libertine\" font-size=\"10.00\">output: </text>\n",
       "<polygon fill=\"none\" stroke=\"black\" points=\"133,-692 133,-713 214,-713 214,-692 133,-692\"/>\n",
       "<text text-anchor=\"start\" x=\"138\" y=\"-700\" font-family=\"Linux libertine\" font-size=\"10.00\">(10, 256, 4, 4) </text>\n",
       "</g>\n",
       "<!-- 8&#45;&gt;9 -->\n",
       "<g id=\"edge9\" class=\"edge\">\n",
       "<title>8&#45;&gt;9</title>\n",
       "<path fill=\"none\" stroke=\"black\" d=\"M117,-769.63C117,-761.82 117,-752.73 117,-744.18\"/>\n",
       "<polygon fill=\"black\" stroke=\"black\" points=\"120.5,-744.16 117,-734.16 113.5,-744.16 120.5,-744.16\"/>\n",
       "</g>\n",
       "<!-- 10 -->\n",
       "<g id=\"node11\" class=\"node\">\n",
       "<title>10</title>\n",
       "<polygon fill=\"#c1ffc1\" stroke=\"transparent\" points=\"213.5,-656 20.5,-656 20.5,-614 213.5,-614 213.5,-656\"/>\n",
       "<polygon fill=\"none\" stroke=\"black\" points=\"21,-614 21,-656 85,-656 85,-614 21,-614\"/>\n",
       "<text text-anchor=\"start\" x=\"26\" y=\"-638\" font-family=\"Linux libertine\" font-size=\"10.00\">BasicBlock</text>\n",
       "<text text-anchor=\"start\" x=\"34.5\" y=\"-627\" font-family=\"Linux libertine\" font-size=\"10.00\">depth:3</text>\n",
       "<polygon fill=\"none\" stroke=\"black\" points=\"85,-635 85,-656 133,-656 133,-635 85,-635\"/>\n",
       "<text text-anchor=\"start\" x=\"95\" y=\"-643\" font-family=\"Linux libertine\" font-size=\"10.00\">input:</text>\n",
       "<polygon fill=\"none\" stroke=\"black\" points=\"133,-635 133,-656 214,-656 214,-635 133,-635\"/>\n",
       "<text text-anchor=\"start\" x=\"138\" y=\"-643\" font-family=\"Linux libertine\" font-size=\"10.00\">(10, 256, 4, 4) </text>\n",
       "<polygon fill=\"none\" stroke=\"black\" points=\"85,-614 85,-635 133,-635 133,-614 85,-614\"/>\n",
       "<text text-anchor=\"start\" x=\"90\" y=\"-622\" font-family=\"Linux libertine\" font-size=\"10.00\">output: </text>\n",
       "<polygon fill=\"none\" stroke=\"black\" points=\"133,-614 133,-635 214,-635 214,-614 133,-614\"/>\n",
       "<text text-anchor=\"start\" x=\"138\" y=\"-622\" font-family=\"Linux libertine\" font-size=\"10.00\">(10, 256, 4, 4) </text>\n",
       "</g>\n",
       "<!-- 9&#45;&gt;10 -->\n",
       "<g id=\"edge10\" class=\"edge\">\n",
       "<title>9&#45;&gt;10</title>\n",
       "<path fill=\"none\" stroke=\"black\" d=\"M117,-691.63C117,-683.82 117,-674.73 117,-666.18\"/>\n",
       "<polygon fill=\"black\" stroke=\"black\" points=\"120.5,-666.16 117,-656.16 113.5,-666.16 120.5,-666.16\"/>\n",
       "</g>\n",
       "<!-- 11 -->\n",
       "<g id=\"node12\" class=\"node\">\n",
       "<title>11</title>\n",
       "<polygon fill=\"#c1ffc1\" stroke=\"transparent\" points=\"213.5,-578 20.5,-578 20.5,-536 213.5,-536 213.5,-578\"/>\n",
       "<polygon fill=\"none\" stroke=\"black\" points=\"21,-536 21,-578 85,-578 85,-536 21,-536\"/>\n",
       "<text text-anchor=\"start\" x=\"26\" y=\"-560\" font-family=\"Linux libertine\" font-size=\"10.00\">BasicBlock</text>\n",
       "<text text-anchor=\"start\" x=\"34.5\" y=\"-549\" font-family=\"Linux libertine\" font-size=\"10.00\">depth:3</text>\n",
       "<polygon fill=\"none\" stroke=\"black\" points=\"85,-557 85,-578 133,-578 133,-557 85,-557\"/>\n",
       "<text text-anchor=\"start\" x=\"95\" y=\"-565\" font-family=\"Linux libertine\" font-size=\"10.00\">input:</text>\n",
       "<polygon fill=\"none\" stroke=\"black\" points=\"133,-557 133,-578 214,-578 214,-557 133,-557\"/>\n",
       "<text text-anchor=\"start\" x=\"138\" y=\"-565\" font-family=\"Linux libertine\" font-size=\"10.00\">(10, 256, 4, 4) </text>\n",
       "<polygon fill=\"none\" stroke=\"black\" points=\"85,-536 85,-557 133,-557 133,-536 85,-536\"/>\n",
       "<text text-anchor=\"start\" x=\"90\" y=\"-544\" font-family=\"Linux libertine\" font-size=\"10.00\">output: </text>\n",
       "<polygon fill=\"none\" stroke=\"black\" points=\"133,-536 133,-557 214,-557 214,-536 133,-536\"/>\n",
       "<text text-anchor=\"start\" x=\"138\" y=\"-544\" font-family=\"Linux libertine\" font-size=\"10.00\">(10, 512, 2, 2) </text>\n",
       "</g>\n",
       "<!-- 10&#45;&gt;11 -->\n",
       "<g id=\"edge11\" class=\"edge\">\n",
       "<title>10&#45;&gt;11</title>\n",
       "<path fill=\"none\" stroke=\"black\" d=\"M117,-613.63C117,-605.82 117,-596.73 117,-588.18\"/>\n",
       "<polygon fill=\"black\" stroke=\"black\" points=\"120.5,-588.16 117,-578.16 113.5,-588.16 120.5,-588.16\"/>\n",
       "</g>\n",
       "<!-- 12 -->\n",
       "<g id=\"node13\" class=\"node\">\n",
       "<title>12</title>\n",
       "<polygon fill=\"#c1ffc1\" stroke=\"transparent\" points=\"213.5,-500 20.5,-500 20.5,-458 213.5,-458 213.5,-500\"/>\n",
       "<polygon fill=\"none\" stroke=\"black\" points=\"21,-458 21,-500 85,-500 85,-458 21,-458\"/>\n",
       "<text text-anchor=\"start\" x=\"26\" y=\"-482\" font-family=\"Linux libertine\" font-size=\"10.00\">BasicBlock</text>\n",
       "<text text-anchor=\"start\" x=\"34.5\" y=\"-471\" font-family=\"Linux libertine\" font-size=\"10.00\">depth:3</text>\n",
       "<polygon fill=\"none\" stroke=\"black\" points=\"85,-479 85,-500 133,-500 133,-479 85,-479\"/>\n",
       "<text text-anchor=\"start\" x=\"95\" y=\"-487\" font-family=\"Linux libertine\" font-size=\"10.00\">input:</text>\n",
       "<polygon fill=\"none\" stroke=\"black\" points=\"133,-479 133,-500 214,-500 214,-479 133,-479\"/>\n",
       "<text text-anchor=\"start\" x=\"138\" y=\"-487\" font-family=\"Linux libertine\" font-size=\"10.00\">(10, 512, 2, 2) </text>\n",
       "<polygon fill=\"none\" stroke=\"black\" points=\"85,-458 85,-479 133,-479 133,-458 85,-458\"/>\n",
       "<text text-anchor=\"start\" x=\"90\" y=\"-466\" font-family=\"Linux libertine\" font-size=\"10.00\">output: </text>\n",
       "<polygon fill=\"none\" stroke=\"black\" points=\"133,-458 133,-479 214,-479 214,-458 133,-458\"/>\n",
       "<text text-anchor=\"start\" x=\"138\" y=\"-466\" font-family=\"Linux libertine\" font-size=\"10.00\">(10, 512, 2, 2) </text>\n",
       "</g>\n",
       "<!-- 11&#45;&gt;12 -->\n",
       "<g id=\"edge12\" class=\"edge\">\n",
       "<title>11&#45;&gt;12</title>\n",
       "<path fill=\"none\" stroke=\"black\" d=\"M117,-535.63C117,-527.82 117,-518.73 117,-510.18\"/>\n",
       "<polygon fill=\"black\" stroke=\"black\" points=\"120.5,-510.16 117,-500.16 113.5,-510.16 120.5,-510.16\"/>\n",
       "</g>\n",
       "<!-- 13 -->\n",
       "<g id=\"node14\" class=\"node\">\n",
       "<title>13</title>\n",
       "<polygon fill=\"#c1ffc1\" stroke=\"transparent\" points=\"234,-422 0,-422 0,-380 234,-380 234,-422\"/>\n",
       "<polygon fill=\"none\" stroke=\"black\" points=\"0,-380 0,-422 105,-422 105,-380 0,-380\"/>\n",
       "<text text-anchor=\"start\" x=\"5\" y=\"-404\" font-family=\"Linux libertine\" font-size=\"10.00\">AdaptiveAvgPool2d</text>\n",
       "<text text-anchor=\"start\" x=\"34\" y=\"-393\" font-family=\"Linux libertine\" font-size=\"10.00\">depth:2</text>\n",
       "<polygon fill=\"none\" stroke=\"black\" points=\"105,-401 105,-422 153,-422 153,-401 105,-401\"/>\n",
       "<text text-anchor=\"start\" x=\"115\" y=\"-409\" font-family=\"Linux libertine\" font-size=\"10.00\">input:</text>\n",
       "<polygon fill=\"none\" stroke=\"black\" points=\"153,-401 153,-422 234,-422 234,-401 153,-401\"/>\n",
       "<text text-anchor=\"start\" x=\"158\" y=\"-409\" font-family=\"Linux libertine\" font-size=\"10.00\">(10, 512, 2, 2) </text>\n",
       "<polygon fill=\"none\" stroke=\"black\" points=\"105,-380 105,-401 153,-401 153,-380 105,-380\"/>\n",
       "<text text-anchor=\"start\" x=\"110\" y=\"-388\" font-family=\"Linux libertine\" font-size=\"10.00\">output: </text>\n",
       "<polygon fill=\"none\" stroke=\"black\" points=\"153,-380 153,-401 234,-401 234,-380 153,-380\"/>\n",
       "<text text-anchor=\"start\" x=\"158\" y=\"-388\" font-family=\"Linux libertine\" font-size=\"10.00\">(10, 512, 1, 1) </text>\n",
       "</g>\n",
       "<!-- 12&#45;&gt;13 -->\n",
       "<g id=\"edge13\" class=\"edge\">\n",
       "<title>12&#45;&gt;13</title>\n",
       "<path fill=\"none\" stroke=\"black\" d=\"M117,-457.63C117,-449.82 117,-440.73 117,-432.18\"/>\n",
       "<polygon fill=\"black\" stroke=\"black\" points=\"120.5,-432.16 117,-422.16 113.5,-432.16 120.5,-432.16\"/>\n",
       "</g>\n",
       "<!-- 14 -->\n",
       "<g id=\"node15\" class=\"node\">\n",
       "<title>14</title>\n",
       "<polygon fill=\"aliceblue\" stroke=\"transparent\" points=\"205,-344 29,-344 29,-302 205,-302 205,-344\"/>\n",
       "<polygon fill=\"none\" stroke=\"black\" points=\"29,-302 29,-344 76,-344 76,-302 29,-302\"/>\n",
       "<text text-anchor=\"start\" x=\"36.5\" y=\"-326\" font-family=\"Linux libertine\" font-size=\"10.00\">flatten</text>\n",
       "<text text-anchor=\"start\" x=\"34\" y=\"-315\" font-family=\"Linux libertine\" font-size=\"10.00\">depth:2</text>\n",
       "<polygon fill=\"none\" stroke=\"black\" points=\"76,-323 76,-344 124,-344 124,-323 76,-323\"/>\n",
       "<text text-anchor=\"start\" x=\"86\" y=\"-331\" font-family=\"Linux libertine\" font-size=\"10.00\">input:</text>\n",
       "<polygon fill=\"none\" stroke=\"black\" points=\"124,-323 124,-344 205,-344 205,-323 124,-323\"/>\n",
       "<text text-anchor=\"start\" x=\"129\" y=\"-331\" font-family=\"Linux libertine\" font-size=\"10.00\">(10, 512, 1, 1) </text>\n",
       "<polygon fill=\"none\" stroke=\"black\" points=\"76,-302 76,-323 124,-323 124,-302 76,-302\"/>\n",
       "<text text-anchor=\"start\" x=\"81\" y=\"-310\" font-family=\"Linux libertine\" font-size=\"10.00\">output: </text>\n",
       "<polygon fill=\"none\" stroke=\"black\" points=\"124,-302 124,-323 205,-323 205,-302 124,-302\"/>\n",
       "<text text-anchor=\"start\" x=\"141\" y=\"-310\" font-family=\"Linux libertine\" font-size=\"10.00\">(10, 512) </text>\n",
       "</g>\n",
       "<!-- 13&#45;&gt;14 -->\n",
       "<g id=\"edge14\" class=\"edge\">\n",
       "<title>13&#45;&gt;14</title>\n",
       "<path fill=\"none\" stroke=\"black\" d=\"M117,-379.63C117,-371.82 117,-362.73 117,-354.18\"/>\n",
       "<polygon fill=\"black\" stroke=\"black\" points=\"120.5,-354.16 117,-344.16 113.5,-354.16 120.5,-354.16\"/>\n",
       "</g>\n",
       "<!-- 15 -->\n",
       "<g id=\"node16\" class=\"node\">\n",
       "<title>15</title>\n",
       "<polygon fill=\"#c1ffc1\" stroke=\"transparent\" points=\"196,-266 38,-266 38,-224 196,-224 196,-266\"/>\n",
       "<polygon fill=\"none\" stroke=\"black\" points=\"38,-224 38,-266 85,-266 85,-224 38,-224\"/>\n",
       "<text text-anchor=\"start\" x=\"46\" y=\"-248\" font-family=\"Linux libertine\" font-size=\"10.00\">Linear</text>\n",
       "<text text-anchor=\"start\" x=\"43\" y=\"-237\" font-family=\"Linux libertine\" font-size=\"10.00\">depth:2</text>\n",
       "<polygon fill=\"none\" stroke=\"black\" points=\"85,-245 85,-266 133,-266 133,-245 85,-245\"/>\n",
       "<text text-anchor=\"start\" x=\"95\" y=\"-253\" font-family=\"Linux libertine\" font-size=\"10.00\">input:</text>\n",
       "<polygon fill=\"none\" stroke=\"black\" points=\"133,-245 133,-266 196,-266 196,-245 133,-245\"/>\n",
       "<text text-anchor=\"start\" x=\"141\" y=\"-253\" font-family=\"Linux libertine\" font-size=\"10.00\">(10, 512) </text>\n",
       "<polygon fill=\"none\" stroke=\"black\" points=\"85,-224 85,-245 133,-245 133,-224 85,-224\"/>\n",
       "<text text-anchor=\"start\" x=\"90\" y=\"-232\" font-family=\"Linux libertine\" font-size=\"10.00\">output: </text>\n",
       "<polygon fill=\"none\" stroke=\"black\" points=\"133,-224 133,-245 196,-245 196,-224 133,-224\"/>\n",
       "<text text-anchor=\"start\" x=\"138\" y=\"-232\" font-family=\"Linux libertine\" font-size=\"10.00\">(10, 1000) </text>\n",
       "</g>\n",
       "<!-- 14&#45;&gt;15 -->\n",
       "<g id=\"edge15\" class=\"edge\">\n",
       "<title>14&#45;&gt;15</title>\n",
       "<path fill=\"none\" stroke=\"black\" d=\"M117,-301.63C117,-293.82 117,-284.73 117,-276.18\"/>\n",
       "<polygon fill=\"black\" stroke=\"black\" points=\"120.5,-276.16 117,-266.16 113.5,-276.16 120.5,-276.16\"/>\n",
       "</g>\n",
       "<!-- 16 -->\n",
       "<g id=\"node17\" class=\"node\">\n",
       "<title>16</title>\n",
       "<polygon fill=\"#c1ffc1\" stroke=\"transparent\" points=\"196,-188 38,-188 38,-146 196,-146 196,-188\"/>\n",
       "<polygon fill=\"none\" stroke=\"black\" points=\"38,-146 38,-188 85,-188 85,-146 38,-146\"/>\n",
       "<text text-anchor=\"start\" x=\"46\" y=\"-170\" font-family=\"Linux libertine\" font-size=\"10.00\">Linear</text>\n",
       "<text text-anchor=\"start\" x=\"43\" y=\"-159\" font-family=\"Linux libertine\" font-size=\"10.00\">depth:1</text>\n",
       "<polygon fill=\"none\" stroke=\"black\" points=\"85,-167 85,-188 133,-188 133,-167 85,-167\"/>\n",
       "<text text-anchor=\"start\" x=\"95\" y=\"-175\" font-family=\"Linux libertine\" font-size=\"10.00\">input:</text>\n",
       "<polygon fill=\"none\" stroke=\"black\" points=\"133,-167 133,-188 196,-188 196,-167 133,-167\"/>\n",
       "<text text-anchor=\"start\" x=\"138\" y=\"-175\" font-family=\"Linux libertine\" font-size=\"10.00\">(10, 1000) </text>\n",
       "<polygon fill=\"none\" stroke=\"black\" points=\"85,-146 85,-167 133,-167 133,-146 85,-146\"/>\n",
       "<text text-anchor=\"start\" x=\"90\" y=\"-154\" font-family=\"Linux libertine\" font-size=\"10.00\">output: </text>\n",
       "<polygon fill=\"none\" stroke=\"black\" points=\"133,-146 133,-167 196,-167 196,-146 133,-146\"/>\n",
       "<text text-anchor=\"start\" x=\"147\" y=\"-154\" font-family=\"Linux libertine\" font-size=\"10.00\">(10, 1) </text>\n",
       "</g>\n",
       "<!-- 15&#45;&gt;16 -->\n",
       "<g id=\"edge16\" class=\"edge\">\n",
       "<title>15&#45;&gt;16</title>\n",
       "<path fill=\"none\" stroke=\"black\" d=\"M117,-223.63C117,-215.82 117,-206.73 117,-198.18\"/>\n",
       "<polygon fill=\"black\" stroke=\"black\" points=\"120.5,-198.16 117,-188.16 113.5,-198.16 120.5,-198.16\"/>\n",
       "</g>\n",
       "<!-- 17 -->\n",
       "<g id=\"node18\" class=\"node\">\n",
       "<title>17</title>\n",
       "<polygon fill=\"aliceblue\" stroke=\"transparent\" points=\"189,-110 45,-110 45,-68 189,-68 189,-110\"/>\n",
       "<polygon fill=\"none\" stroke=\"black\" points=\"45,-68 45,-110 96,-110 96,-68 45,-68\"/>\n",
       "<text text-anchor=\"start\" x=\"50\" y=\"-92\" font-family=\"Linux libertine\" font-size=\"10.00\">squeeze</text>\n",
       "<text text-anchor=\"start\" x=\"52\" y=\"-81\" font-family=\"Linux libertine\" font-size=\"10.00\">depth:1</text>\n",
       "<polygon fill=\"none\" stroke=\"black\" points=\"96,-89 96,-110 144,-110 144,-89 96,-89\"/>\n",
       "<text text-anchor=\"start\" x=\"106\" y=\"-97\" font-family=\"Linux libertine\" font-size=\"10.00\">input:</text>\n",
       "<polygon fill=\"none\" stroke=\"black\" points=\"144,-89 144,-110 189,-110 189,-89 144,-89\"/>\n",
       "<text text-anchor=\"start\" x=\"149\" y=\"-97\" font-family=\"Linux libertine\" font-size=\"10.00\">(10, 1) </text>\n",
       "<polygon fill=\"none\" stroke=\"black\" points=\"96,-68 96,-89 144,-89 144,-68 96,-68\"/>\n",
       "<text text-anchor=\"start\" x=\"101\" y=\"-76\" font-family=\"Linux libertine\" font-size=\"10.00\">output: </text>\n",
       "<polygon fill=\"none\" stroke=\"black\" points=\"144,-68 144,-89 189,-89 189,-68 144,-68\"/>\n",
       "<text text-anchor=\"start\" x=\"153.5\" y=\"-76\" font-family=\"Linux libertine\" font-size=\"10.00\">(10,) </text>\n",
       "</g>\n",
       "<!-- 16&#45;&gt;17 -->\n",
       "<g id=\"edge17\" class=\"edge\">\n",
       "<title>16&#45;&gt;17</title>\n",
       "<path fill=\"none\" stroke=\"black\" d=\"M117,-145.63C117,-137.82 117,-128.73 117,-120.18\"/>\n",
       "<polygon fill=\"black\" stroke=\"black\" points=\"120.5,-120.16 117,-110.16 113.5,-120.16 120.5,-120.16\"/>\n",
       "</g>\n",
       "<!-- 18 -->\n",
       "<g id=\"node19\" class=\"node\">\n",
       "<title>18</title>\n",
       "<polygon fill=\"lightyellow\" stroke=\"transparent\" points=\"172,-32 62,-32 62,0 172,0 172,-32\"/>\n",
       "<polygon fill=\"none\" stroke=\"black\" points=\"62,0 62,-32 139,-32 139,0 62,0\"/>\n",
       "<text text-anchor=\"start\" x=\"67\" y=\"-19\" font-family=\"Linux libertine\" font-size=\"10.00\">output&#45;tensor</text>\n",
       "<text text-anchor=\"start\" x=\"82\" y=\"-8\" font-family=\"Linux libertine\" font-size=\"10.00\">depth:0</text>\n",
       "<polygon fill=\"none\" stroke=\"black\" points=\"139,0 139,-32 172,-32 172,0 139,0\"/>\n",
       "<text text-anchor=\"start\" x=\"144\" y=\"-13.5\" font-family=\"Linux libertine\" font-size=\"10.00\">(10,)</text>\n",
       "</g>\n",
       "<!-- 17&#45;&gt;18 -->\n",
       "<g id=\"edge18\" class=\"edge\">\n",
       "<title>17&#45;&gt;18</title>\n",
       "<path fill=\"none\" stroke=\"black\" d=\"M117,-67.84C117,-59.89 117,-50.66 117,-42.26\"/>\n",
       "<polygon fill=\"black\" stroke=\"black\" points=\"120.5,-42.24 117,-32.24 113.5,-42.24 120.5,-42.24\"/>\n",
       "</g>\n",
       "</g>\n",
       "</svg>\n"
      ],
      "text/plain": [
       "<graphviz.graphs.Digraph at 0x7f22b009b050>"
      ]
     },
     "execution_count": 17,
     "metadata": {},
     "output_type": "execute_result"
    }
   ],
   "source": [
    "visual_batch_size = 10\n",
    "model_graph = draw_graph(model, input_size=(visual_batch_size, 3, 56, 56))\n",
    " \n",
    "model_graph.visual_graph"
   ]
  },
  {
   "cell_type": "markdown",
   "id": "ef477c27-6515-4b37-9206-fe7b873d00ef",
   "metadata": {},
   "source": [
    "# Optimizer\n",
    "Initialize the AdamW optimizer for training the model, which uses weight decay to improve generalization by preventing overfitting."
   ]
  },
  {
   "cell_type": "code",
   "execution_count": 18,
   "id": "31b916af-cd2a-4c43-a35a-683e054a43dc",
   "metadata": {},
   "outputs": [],
   "source": [
    "optimizer = torch.optim.AdamW(\n",
    "    params=model.parameters(),\n",
    "    lr=3e-4,\n",
    ")"
   ]
  },
  {
   "cell_type": "markdown",
   "id": "ae9d293a-5cbe-49ab-a33d-897e260dcb5d",
   "metadata": {},
   "source": [
    "# Criterion"
   ]
  },
  {
   "cell_type": "markdown",
   "id": "2031aff1-aa77-4873-889f-7a7b6503647d",
   "metadata": {},
   "source": [
    "Count the occurrences of each unique label in the dataset"
   ]
  },
  {
   "cell_type": "code",
   "execution_count": 19,
   "id": "bbece073-1b7f-49d5-9a3c-28df5cae29c8",
   "metadata": {},
   "outputs": [],
   "source": [
    "_, (pos, neg) = torch.unique(\n",
    "    input=torch.tensor([label for _, label in train_set]),\n",
    "    return_counts=True,\n",
    ")"
   ]
  },
  {
   "cell_type": "markdown",
   "id": "610262c5-7c17-4d2b-99cf-2041c55d7b86",
   "metadata": {},
   "source": [
    "Calculate the weight for the positive class to address class imbalance"
   ]
  },
  {
   "cell_type": "code",
   "execution_count": 20,
   "id": "48a93e15-9d17-4000-8a05-af2d3735af46",
   "metadata": {},
   "outputs": [
    {
     "name": "stdout",
     "output_type": "stream",
     "text": [
      "pos=tensor(791), neg=tensor(584) -> pos_weight=tensor(0.7383)\n"
     ]
    }
   ],
   "source": [
    "pos_weight = neg / pos\n",
    "print(f'{pos=}, {neg=} -> {pos_weight=}')"
   ]
  },
  {
   "cell_type": "markdown",
   "id": "cba8da76-8c5f-4340-938c-1b4aeef049fc",
   "metadata": {},
   "source": [
    "This weight adjustment will make the model more sensitive to the minority class"
   ]
  },
  {
   "cell_type": "code",
   "execution_count": 21,
   "id": "82e87efb-a417-4aa0-9eee-d346725d7a4d",
   "metadata": {},
   "outputs": [],
   "source": [
    "criterion = torch.nn.BCEWithLogitsLoss(pos_weight=pos_weight)\n",
    "criterion = criterion.to(device)"
   ]
  },
  {
   "cell_type": "markdown",
   "id": "6e266f89-9926-4e04-9157-eb4085c90997",
   "metadata": {},
   "source": [
    "# Hyperparameters"
   ]
  },
  {
   "cell_type": "code",
   "execution_count": 22,
   "id": "e8607512-7985-47df-b0d5-d0a9c4741b8a",
   "metadata": {},
   "outputs": [],
   "source": [
    "max_epochs: int = 20\n",
    "threshold: float = 0.5"
   ]
  },
  {
   "cell_type": "markdown",
   "id": "0c5fef87-68f0-407d-a2eb-16dd6c5e5e11",
   "metadata": {},
   "source": [
    "# Training Loop"
   ]
  },
  {
   "cell_type": "code",
   "execution_count": 25,
   "id": "396108e7-b569-45cd-959f-6b704bfd5270",
   "metadata": {},
   "outputs": [
    {
     "name": "stderr",
     "output_type": "stream",
     "text": [
      "validation: 100%|██████████████████████████████████████████████████████████████████████████████████████████████████████████████████| 11/11 [00:01<00:00,  8.96it/s]\n"
     ]
    },
    {
     "name": "stdout",
     "output_type": "stream",
     "text": [
      "epoch=     0: Loss=1.017 Accuracy=54.47 %\n"
     ]
    },
    {
     "name": "stderr",
     "output_type": "stream",
     "text": [
      "training: 100%|████████████████████████████████████████████████████████████████████████████████████████████████████████████████████| 22/22 [00:01<00:00, 15.91it/s]\n",
      "validation: 100%|██████████████████████████████████████████████████████████████████████████████████████████████████████████████████| 11/11 [00:00<00:00, 11.13it/s]\n"
     ]
    },
    {
     "name": "stdout",
     "output_type": "stream",
     "text": [
      "epoch=     1: Loss=0.729 Accuracy=72.80 %\n"
     ]
    },
    {
     "name": "stderr",
     "output_type": "stream",
     "text": [
      "training: 100%|████████████████████████████████████████████████████████████████████████████████████████████████████████████████████| 22/22 [00:01<00:00, 18.83it/s]\n",
      "validation: 100%|██████████████████████████████████████████████████████████████████████████████████████████████████████████████████| 11/11 [00:00<00:00, 11.27it/s]\n"
     ]
    },
    {
     "name": "stdout",
     "output_type": "stream",
     "text": [
      "epoch=     2: Loss=0.287 Accuracy=85.31 %\n"
     ]
    },
    {
     "name": "stderr",
     "output_type": "stream",
     "text": [
      "training: 100%|████████████████████████████████████████████████████████████████████████████████████████████████████████████████████| 22/22 [00:01<00:00, 18.31it/s]\n",
      "validation: 100%|██████████████████████████████████████████████████████████████████████████████████████████████████████████████████| 11/11 [00:01<00:00, 10.44it/s]\n"
     ]
    },
    {
     "name": "stdout",
     "output_type": "stream",
     "text": [
      "epoch=     3: Loss=0.238 Accuracy=87.93 %\n"
     ]
    },
    {
     "name": "stderr",
     "output_type": "stream",
     "text": [
      "training: 100%|████████████████████████████████████████████████████████████████████████████████████████████████████████████████████| 22/22 [00:01<00:00, 17.51it/s]\n",
      "validation: 100%|██████████████████████████████████████████████████████████████████████████████████████████████████████████████████| 11/11 [00:00<00:00, 11.04it/s]\n"
     ]
    },
    {
     "name": "stdout",
     "output_type": "stream",
     "text": [
      "epoch=     4: Loss=0.253 Accuracy=88.07 %\n"
     ]
    },
    {
     "name": "stderr",
     "output_type": "stream",
     "text": [
      "training: 100%|████████████████████████████████████████████████████████████████████████████████████████████████████████████████████| 22/22 [00:01<00:00, 18.52it/s]\n",
      "validation: 100%|██████████████████████████████████████████████████████████████████████████████████████████████████████████████████| 11/11 [00:00<00:00, 11.17it/s]\n"
     ]
    },
    {
     "name": "stdout",
     "output_type": "stream",
     "text": [
      "epoch=     5: Loss=0.149 Accuracy=93.09 %\n"
     ]
    },
    {
     "name": "stderr",
     "output_type": "stream",
     "text": [
      "training: 100%|████████████████████████████████████████████████████████████████████████████████████████████████████████████████████| 22/22 [00:01<00:00, 19.71it/s]\n",
      "validation: 100%|██████████████████████████████████████████████████████████████████████████████████████████████████████████████████| 11/11 [00:00<00:00, 11.64it/s]\n"
     ]
    },
    {
     "name": "stdout",
     "output_type": "stream",
     "text": [
      "epoch=     6: Loss=0.187 Accuracy=92.58 %\n"
     ]
    },
    {
     "name": "stderr",
     "output_type": "stream",
     "text": [
      "training: 100%|████████████████████████████████████████████████████████████████████████████████████████████████████████████████████| 22/22 [00:01<00:00, 19.47it/s]\n",
      "validation: 100%|██████████████████████████████████████████████████████████████████████████████████████████████████████████████████| 11/11 [00:00<00:00, 11.63it/s]\n"
     ]
    },
    {
     "name": "stdout",
     "output_type": "stream",
     "text": [
      "epoch=     7: Loss=0.331 Accuracy=83.85 %\n"
     ]
    },
    {
     "name": "stderr",
     "output_type": "stream",
     "text": [
      "training: 100%|████████████████████████████████████████████████████████████████████████████████████████████████████████████████████| 22/22 [00:01<00:00, 19.21it/s]\n",
      "validation: 100%|██████████████████████████████████████████████████████████████████████████████████████████████████████████████████| 11/11 [00:00<00:00, 11.74it/s]\n"
     ]
    },
    {
     "name": "stdout",
     "output_type": "stream",
     "text": [
      "epoch=     8: Loss=0.132 Accuracy=93.60 %\n"
     ]
    },
    {
     "name": "stderr",
     "output_type": "stream",
     "text": [
      "training: 100%|████████████████████████████████████████████████████████████████████████████████████████████████████████████████████| 22/22 [00:01<00:00, 18.18it/s]\n",
      "validation: 100%|██████████████████████████████████████████████████████████████████████████████████████████████████████████████████| 11/11 [00:01<00:00, 10.82it/s]\n"
     ]
    },
    {
     "name": "stdout",
     "output_type": "stream",
     "text": [
      "epoch=     9: Loss=0.470 Accuracy=75.27 %\n"
     ]
    },
    {
     "name": "stderr",
     "output_type": "stream",
     "text": [
      "training: 100%|████████████████████████████████████████████████████████████████████████████████████████████████████████████████████| 22/22 [00:01<00:00, 19.50it/s]\n",
      "validation: 100%|██████████████████████████████████████████████████████████████████████████████████████████████████████████████████| 11/11 [00:00<00:00, 12.03it/s]\n"
     ]
    },
    {
     "name": "stdout",
     "output_type": "stream",
     "text": [
      "epoch=    10: Loss=0.137 Accuracy=93.38 %\n"
     ]
    },
    {
     "name": "stderr",
     "output_type": "stream",
     "text": [
      "training: 100%|████████████████████████████████████████████████████████████████████████████████████████████████████████████████████| 22/22 [00:01<00:00, 19.71it/s]\n",
      "validation: 100%|██████████████████████████████████████████████████████████████████████████████████████████████████████████████████| 11/11 [00:01<00:00, 10.43it/s]\n"
     ]
    },
    {
     "name": "stdout",
     "output_type": "stream",
     "text": [
      "epoch=    11: Loss=0.151 Accuracy=92.65 %\n"
     ]
    },
    {
     "name": "stderr",
     "output_type": "stream",
     "text": [
      "training: 100%|████████████████████████████████████████████████████████████████████████████████████████████████████████████████████| 22/22 [00:01<00:00, 19.21it/s]\n",
      "validation: 100%|██████████████████████████████████████████████████████████████████████████████████████████████████████████████████| 11/11 [00:00<00:00, 11.53it/s]\n"
     ]
    },
    {
     "name": "stdout",
     "output_type": "stream",
     "text": [
      "epoch=    12: Loss=0.173 Accuracy=91.56 %\n"
     ]
    },
    {
     "name": "stderr",
     "output_type": "stream",
     "text": [
      "training: 100%|████████████████████████████████████████████████████████████████████████████████████████████████████████████████████| 22/22 [00:01<00:00, 19.62it/s]\n",
      "validation: 100%|██████████████████████████████████████████████████████████████████████████████████████████████████████████████████| 11/11 [00:00<00:00, 11.63it/s]\n"
     ]
    },
    {
     "name": "stdout",
     "output_type": "stream",
     "text": [
      "epoch=    13: Loss=0.138 Accuracy=92.95 %\n"
     ]
    },
    {
     "name": "stderr",
     "output_type": "stream",
     "text": [
      "training: 100%|████████████████████████████████████████████████████████████████████████████████████████████████████████████████████| 22/22 [00:01<00:00, 19.44it/s]\n",
      "validation: 100%|██████████████████████████████████████████████████████████████████████████████████████████████████████████████████| 11/11 [00:00<00:00, 11.43it/s]\n"
     ]
    },
    {
     "name": "stdout",
     "output_type": "stream",
     "text": [
      "epoch=    14: Loss=0.131 Accuracy=94.25 %\n"
     ]
    },
    {
     "name": "stderr",
     "output_type": "stream",
     "text": [
      "training: 100%|████████████████████████████████████████████████████████████████████████████████████████████████████████████████████| 22/22 [00:01<00:00, 18.78it/s]\n",
      "validation: 100%|██████████████████████████████████████████████████████████████████████████████████████████████████████████████████| 11/11 [00:01<00:00, 10.76it/s]\n"
     ]
    },
    {
     "name": "stdout",
     "output_type": "stream",
     "text": [
      "epoch=    15: Loss=0.130 Accuracy=92.95 %\n"
     ]
    },
    {
     "name": "stderr",
     "output_type": "stream",
     "text": [
      "training: 100%|████████████████████████████████████████████████████████████████████████████████████████████████████████████████████| 22/22 [00:01<00:00, 19.39it/s]\n",
      "validation: 100%|██████████████████████████████████████████████████████████████████████████████████████████████████████████████████| 11/11 [00:00<00:00, 11.72it/s]\n"
     ]
    },
    {
     "name": "stdout",
     "output_type": "stream",
     "text": [
      "epoch=    16: Loss=0.150 Accuracy=94.04 %\n"
     ]
    },
    {
     "name": "stderr",
     "output_type": "stream",
     "text": [
      "training: 100%|████████████████████████████████████████████████████████████████████████████████████████████████████████████████████| 22/22 [00:01<00:00, 19.44it/s]\n",
      "validation: 100%|██████████████████████████████████████████████████████████████████████████████████████████████████████████████████| 11/11 [00:00<00:00, 11.65it/s]\n"
     ]
    },
    {
     "name": "stdout",
     "output_type": "stream",
     "text": [
      "epoch=    17: Loss=0.115 Accuracy=94.91 %\n"
     ]
    },
    {
     "name": "stderr",
     "output_type": "stream",
     "text": [
      "training: 100%|████████████████████████████████████████████████████████████████████████████████████████████████████████████████████| 22/22 [00:01<00:00, 19.30it/s]\n",
      "validation: 100%|██████████████████████████████████████████████████████████████████████████████████████████████████████████████████| 11/11 [00:00<00:00, 11.48it/s]\n"
     ]
    },
    {
     "name": "stdout",
     "output_type": "stream",
     "text": [
      "epoch=    18: Loss=0.132 Accuracy=93.53 %\n"
     ]
    },
    {
     "name": "stderr",
     "output_type": "stream",
     "text": [
      "training: 100%|████████████████████████████████████████████████████████████████████████████████████████████████████████████████████| 22/22 [00:01<00:00, 19.42it/s]\n",
      "validation: 100%|██████████████████████████████████████████████████████████████████████████████████████████████████████████████████| 11/11 [00:00<00:00, 12.01it/s]\n"
     ]
    },
    {
     "name": "stdout",
     "output_type": "stream",
     "text": [
      "epoch=    19: Loss=0.120 Accuracy=94.62 %\n"
     ]
    },
    {
     "name": "stderr",
     "output_type": "stream",
     "text": [
      "training: 100%|████████████████████████████████████████████████████████████████████████████████████████████████████████████████████| 22/22 [00:01<00:00, 19.19it/s]\n",
      "validation: 100%|██████████████████████████████████████████████████████████████████████████████████████████████████████████████████| 11/11 [00:00<00:00, 11.64it/s]"
     ]
    },
    {
     "name": "stdout",
     "output_type": "stream",
     "text": [
      "epoch=    20: Loss=0.365 Accuracy=86.18 %\n"
     ]
    },
    {
     "name": "stderr",
     "output_type": "stream",
     "text": [
      "\n"
     ]
    }
   ],
   "source": [
    "train_loader = DataLoader(\n",
    "    dataset=train_set,\n",
    "    batch_size=64,\n",
    ")\n",
    "\n",
    "val_loader = DataLoader(\n",
    "    dataset=train_set,\n",
    "    batch_size=128\n",
    ")\n",
    "\n",
    "\n",
    "for epoch in range(0, max_epochs + 1):\n",
    "    if epoch > 0:\n",
    "        model.train()\n",
    "        for image, target in tqdm.tqdm(train_loader, desc='training'):\n",
    "            image, target = image.to(device), target.to(device)\n",
    "            optimizer.zero_grad()\n",
    "            logits = model(input=image)\n",
    "            loss = criterion(\n",
    "                input=logits, \n",
    "                target=target.to(logits.dtype),\n",
    "            )\n",
    "            loss.backward()\n",
    "            optimizer.step()\n",
    "\n",
    "    \n",
    "    with torch.no_grad():\n",
    "        # validation\n",
    "        model.eval()\n",
    "\n",
    "        val_loss = 0\n",
    "        val_total = 0\n",
    "        val_correct = 0\n",
    "\n",
    "        for image, target in tqdm.tqdm(val_loader, desc='validation'):\n",
    "            image, target = image.to(device), target.to(device)\n",
    "            logits = model(input=image)\n",
    "            score = logits.sigmoid()\n",
    "            prediction = score.gt(threshold).long()\n",
    "\n",
    "            loss = criterion(\n",
    "                input=logits, \n",
    "                target=target.to(logits.dtype), \n",
    "            )\n",
    "\n",
    "            val_loss += len(target) * loss.item()\n",
    "            val_total += len(target)\n",
    "            val_correct += prediction.eq(target).sum().item()\n",
    "    \n",
    "        val_loss /= val_total\n",
    "        val_acc = val_correct / val_total\n",
    "        print(f'{epoch=: >6d}: Loss={val_loss:.3f} Accuracy={100 * val_acc:.2f} %')\n"
   ]
  },
  {
   "cell_type": "code",
   "execution_count": null,
   "id": "3d379186-aadc-4b8f-88ce-78b4567637b4",
   "metadata": {},
   "outputs": [],
   "source": []
  },
  {
   "cell_type": "markdown",
   "id": "682152dd-2cd8-4a98-a355-aa43a94223ed",
   "metadata": {},
   "source": [
    "# Testing\n",
    "After selecting your backbone and hyperparameters, you can evaluate your final model on the test set."
   ]
  },
  {
   "cell_type": "code",
   "execution_count": 26,
   "id": "898dd9f1-7242-4749-bbba-de36704a68e1",
   "metadata": {},
   "outputs": [],
   "source": [
    "test_loader = DataLoader(\n",
    "    dataset=test_set,\n",
    "    batch_size=128,\n",
    ")"
   ]
  },
  {
   "cell_type": "code",
   "execution_count": 27,
   "id": "17a5fe00-c717-4215-9fd0-862cb1170d31",
   "metadata": {},
   "outputs": [
    {
     "name": "stderr",
     "output_type": "stream",
     "text": [
      "test: 100%|██████████████████████████████████████████████████████████████████████████████████████████████████████████████████████████| 4/4 [00:00<00:00, 11.10it/s]\n"
     ]
    }
   ],
   "source": [
    "# confusion matrix\n",
    "cm = np.zeros((2, 2), dtype=np.int64)\n",
    "\n",
    "with torch.no_grad():\n",
    "    model.eval()\n",
    "\n",
    "    for image, target in tqdm.tqdm(test_loader, desc='test'):\n",
    "        image, target = image.to(device), target.to(device)\n",
    "        logits = model(input=image)\n",
    "        score = logits.sigmoid()\n",
    "        prediction = score.gt(threshold).long()\n",
    "\n",
    "        cm += confusion_matrix(\n",
    "            y_true=target.cpu().numpy(), \n",
    "            y_pred=prediction.cpu().numpy(),\n",
    "        )"
   ]
  },
  {
   "cell_type": "code",
   "execution_count": 28,
   "id": "41a2ab48-9277-489b-bb5b-8c4edb566084",
   "metadata": {},
   "outputs": [
    {
     "data": {
      "text/plain": [
       "<sklearn.metrics._plot.confusion_matrix.ConfusionMatrixDisplay at 0x7f263be05e50>"
      ]
     },
     "execution_count": 28,
     "metadata": {},
     "output_type": "execute_result"
    },
    {
     "data": {
      "image/png": "[encoded data removed]",
      "text/plain": [
       "<Figure size 640x480 with 2 Axes>"
      ]
     },
     "metadata": {},
     "output_type": "display_data"
    }
   ],
   "source": [
    "plot = ConfusionMatrixDisplay(\n",
    "    confusion_matrix=cm,\n",
    "    display_labels=PistachioImageDataset.LABEL_NAME_LIST\n",
    ")\n",
    "\n",
    "plot.plot()"
   ]
  }
 ],
 "metadata": {
  "kernelspec": {
   "display_name": "lec-24-2-dl",
   "language": "python",
   "name": "lec-24-2-dl"
  },
  "language_info": {
   "codemirror_mode": {
    "name": "ipython",
    "version": 3
   },
   "file_extension": ".py",
   "mimetype": "text/x-python",
   "name": "python",
   "nbconvert_exporter": "python",
   "pygments_lexer": "ipython3",
   "version": "3.11.10"
  }
 },
 "nbformat": 4,
 "nbformat_minor": 5
}
