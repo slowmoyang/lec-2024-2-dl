{
 "cells": [
  {
   "cell_type": "code",
   "execution_count": 1,
   "id": "745320b3-edf8-4855-a6b1-b2955249c5b6",
   "metadata": {},
   "outputs": [],
   "source": [
    "%matplotlib inline\n",
    "from typing import Type\n",
    "import numpy as np\n",
    "import torch\n",
    "import torch.nn as nn\n",
    "from torch import Tensor\n",
    "from torch.optim import SGD\n",
    "from torch.utils.data import TensorDataset\n",
    "from torch.utils.data import DataLoader\n",
    "from sklearn.model_selection import train_test_split\n",
    "from ucimlrepo import fetch_ucirepo\n",
    "import matplotlib.pyplot as plt\n",
    "import seaborn as sns\n",
    "import tqdm\n",
    "import pandas as pd"
   ]
  },
  {
   "cell_type": "markdown",
   "id": "515e01e9-d104-4bf2-951f-c916ed52f798",
   "metadata": {},
   "source": [
    "## Get the data"
   ]
  },
  {
   "cell_type": "code",
   "execution_count": 2,
   "id": "b8a76d6a-b670-4a9b-8424-28ee9c3d9d60",
   "metadata": {},
   "outputs": [],
   "source": [
    "# fetch dataset \n",
    "# https://archive.ics.uci.edu/dataset/186/wine+quality\n",
    "data = fetch_ucirepo(name='wine quality')"
   ]
  },
  {
   "cell_type": "code",
   "execution_count": 3,
   "id": "9b0d7020-462b-4946-9818-1447dba6aca0",
   "metadata": {},
   "outputs": [
    {
     "data": {
      "text/html": [
       "<div>\n",
       "<style scoped>\n",
       "    .dataframe tbody tr th:only-of-type {\n",
       "        vertical-align: middle;\n",
       "    }\n",
       "\n",
       "    .dataframe tbody tr th {\n",
       "        vertical-align: top;\n",
       "    }\n",
       "\n",
       "    .dataframe thead th {\n",
       "        text-align: right;\n",
       "    }\n",
       "</style>\n",
       "<table border=\"1\" class=\"dataframe\">\n",
       "  <thead>\n",
       "    <tr style=\"text-align: right;\">\n",
       "      <th></th>\n",
       "      <th>name</th>\n",
       "      <th>role</th>\n",
       "      <th>type</th>\n",
       "      <th>demographic</th>\n",
       "      <th>description</th>\n",
       "      <th>units</th>\n",
       "      <th>missing_values</th>\n",
       "    </tr>\n",
       "  </thead>\n",
       "  <tbody>\n",
       "    <tr>\n",
       "      <th>0</th>\n",
       "      <td>fixed_acidity</td>\n",
       "      <td>Feature</td>\n",
       "      <td>Continuous</td>\n",
       "      <td>None</td>\n",
       "      <td>None</td>\n",
       "      <td>None</td>\n",
       "      <td>no</td>\n",
       "    </tr>\n",
       "    <tr>\n",
       "      <th>1</th>\n",
       "      <td>volatile_acidity</td>\n",
       "      <td>Feature</td>\n",
       "      <td>Continuous</td>\n",
       "      <td>None</td>\n",
       "      <td>None</td>\n",
       "      <td>None</td>\n",
       "      <td>no</td>\n",
       "    </tr>\n",
       "    <tr>\n",
       "      <th>2</th>\n",
       "      <td>citric_acid</td>\n",
       "      <td>Feature</td>\n",
       "      <td>Continuous</td>\n",
       "      <td>None</td>\n",
       "      <td>None</td>\n",
       "      <td>None</td>\n",
       "      <td>no</td>\n",
       "    </tr>\n",
       "    <tr>\n",
       "      <th>3</th>\n",
       "      <td>residual_sugar</td>\n",
       "      <td>Feature</td>\n",
       "      <td>Continuous</td>\n",
       "      <td>None</td>\n",
       "      <td>None</td>\n",
       "      <td>None</td>\n",
       "      <td>no</td>\n",
       "    </tr>\n",
       "    <tr>\n",
       "      <th>4</th>\n",
       "      <td>chlorides</td>\n",
       "      <td>Feature</td>\n",
       "      <td>Continuous</td>\n",
       "      <td>None</td>\n",
       "      <td>None</td>\n",
       "      <td>None</td>\n",
       "      <td>no</td>\n",
       "    </tr>\n",
       "    <tr>\n",
       "      <th>5</th>\n",
       "      <td>free_sulfur_dioxide</td>\n",
       "      <td>Feature</td>\n",
       "      <td>Continuous</td>\n",
       "      <td>None</td>\n",
       "      <td>None</td>\n",
       "      <td>None</td>\n",
       "      <td>no</td>\n",
       "    </tr>\n",
       "    <tr>\n",
       "      <th>6</th>\n",
       "      <td>total_sulfur_dioxide</td>\n",
       "      <td>Feature</td>\n",
       "      <td>Continuous</td>\n",
       "      <td>None</td>\n",
       "      <td>None</td>\n",
       "      <td>None</td>\n",
       "      <td>no</td>\n",
       "    </tr>\n",
       "    <tr>\n",
       "      <th>7</th>\n",
       "      <td>density</td>\n",
       "      <td>Feature</td>\n",
       "      <td>Continuous</td>\n",
       "      <td>None</td>\n",
       "      <td>None</td>\n",
       "      <td>None</td>\n",
       "      <td>no</td>\n",
       "    </tr>\n",
       "    <tr>\n",
       "      <th>8</th>\n",
       "      <td>pH</td>\n",
       "      <td>Feature</td>\n",
       "      <td>Continuous</td>\n",
       "      <td>None</td>\n",
       "      <td>None</td>\n",
       "      <td>None</td>\n",
       "      <td>no</td>\n",
       "    </tr>\n",
       "    <tr>\n",
       "      <th>9</th>\n",
       "      <td>sulphates</td>\n",
       "      <td>Feature</td>\n",
       "      <td>Continuous</td>\n",
       "      <td>None</td>\n",
       "      <td>None</td>\n",
       "      <td>None</td>\n",
       "      <td>no</td>\n",
       "    </tr>\n",
       "    <tr>\n",
       "      <th>10</th>\n",
       "      <td>alcohol</td>\n",
       "      <td>Feature</td>\n",
       "      <td>Continuous</td>\n",
       "      <td>None</td>\n",
       "      <td>None</td>\n",
       "      <td>None</td>\n",
       "      <td>no</td>\n",
       "    </tr>\n",
       "    <tr>\n",
       "      <th>11</th>\n",
       "      <td>quality</td>\n",
       "      <td>Target</td>\n",
       "      <td>Integer</td>\n",
       "      <td>None</td>\n",
       "      <td>score between 0 and 10</td>\n",
       "      <td>None</td>\n",
       "      <td>no</td>\n",
       "    </tr>\n",
       "    <tr>\n",
       "      <th>12</th>\n",
       "      <td>color</td>\n",
       "      <td>Other</td>\n",
       "      <td>Categorical</td>\n",
       "      <td>None</td>\n",
       "      <td>red or white</td>\n",
       "      <td>None</td>\n",
       "      <td>no</td>\n",
       "    </tr>\n",
       "  </tbody>\n",
       "</table>\n",
       "</div>"
      ],
      "text/plain": [
       "                    name     role         type demographic  \\\n",
       "0          fixed_acidity  Feature   Continuous        None   \n",
       "1       volatile_acidity  Feature   Continuous        None   \n",
       "2            citric_acid  Feature   Continuous        None   \n",
       "3         residual_sugar  Feature   Continuous        None   \n",
       "4              chlorides  Feature   Continuous        None   \n",
       "5    free_sulfur_dioxide  Feature   Continuous        None   \n",
       "6   total_sulfur_dioxide  Feature   Continuous        None   \n",
       "7                density  Feature   Continuous        None   \n",
       "8                     pH  Feature   Continuous        None   \n",
       "9              sulphates  Feature   Continuous        None   \n",
       "10               alcohol  Feature   Continuous        None   \n",
       "11               quality   Target      Integer        None   \n",
       "12                 color    Other  Categorical        None   \n",
       "\n",
       "               description units missing_values  \n",
       "0                     None  None             no  \n",
       "1                     None  None             no  \n",
       "2                     None  None             no  \n",
       "3                     None  None             no  \n",
       "4                     None  None             no  \n",
       "5                     None  None             no  \n",
       "6                     None  None             no  \n",
       "7                     None  None             no  \n",
       "8                     None  None             no  \n",
       "9                     None  None             no  \n",
       "10                    None  None             no  \n",
       "11  score between 0 and 10  None             no  \n",
       "12            red or white  None             no  "
      ]
     },
     "execution_count": 3,
     "metadata": {},
     "output_type": "execute_result"
    }
   ],
   "source": [
    "data.variables"
   ]
  },
  {
   "cell_type": "code",
   "execution_count": 4,
   "id": "6b5c6098-4433-4b52-aad1-c18164a5953b",
   "metadata": {},
   "outputs": [
    {
     "data": {
      "text/html": [
       "<div>\n",
       "<style scoped>\n",
       "    .dataframe tbody tr th:only-of-type {\n",
       "        vertical-align: middle;\n",
       "    }\n",
       "\n",
       "    .dataframe tbody tr th {\n",
       "        vertical-align: top;\n",
       "    }\n",
       "\n",
       "    .dataframe thead th {\n",
       "        text-align: right;\n",
       "    }\n",
       "</style>\n",
       "<table border=\"1\" class=\"dataframe\">\n",
       "  <thead>\n",
       "    <tr style=\"text-align: right;\">\n",
       "      <th></th>\n",
       "      <th>fixed_acidity</th>\n",
       "      <th>volatile_acidity</th>\n",
       "      <th>citric_acid</th>\n",
       "      <th>residual_sugar</th>\n",
       "      <th>chlorides</th>\n",
       "      <th>free_sulfur_dioxide</th>\n",
       "      <th>total_sulfur_dioxide</th>\n",
       "      <th>density</th>\n",
       "      <th>pH</th>\n",
       "      <th>sulphates</th>\n",
       "      <th>alcohol</th>\n",
       "    </tr>\n",
       "  </thead>\n",
       "  <tbody>\n",
       "    <tr>\n",
       "      <th>0</th>\n",
       "      <td>7.4</td>\n",
       "      <td>0.70</td>\n",
       "      <td>0.00</td>\n",
       "      <td>1.9</td>\n",
       "      <td>0.076</td>\n",
       "      <td>11.0</td>\n",
       "      <td>34.0</td>\n",
       "      <td>0.9978</td>\n",
       "      <td>3.51</td>\n",
       "      <td>0.56</td>\n",
       "      <td>9.4</td>\n",
       "    </tr>\n",
       "    <tr>\n",
       "      <th>1</th>\n",
       "      <td>7.8</td>\n",
       "      <td>0.88</td>\n",
       "      <td>0.00</td>\n",
       "      <td>2.6</td>\n",
       "      <td>0.098</td>\n",
       "      <td>25.0</td>\n",
       "      <td>67.0</td>\n",
       "      <td>0.9968</td>\n",
       "      <td>3.20</td>\n",
       "      <td>0.68</td>\n",
       "      <td>9.8</td>\n",
       "    </tr>\n",
       "    <tr>\n",
       "      <th>2</th>\n",
       "      <td>7.8</td>\n",
       "      <td>0.76</td>\n",
       "      <td>0.04</td>\n",
       "      <td>2.3</td>\n",
       "      <td>0.092</td>\n",
       "      <td>15.0</td>\n",
       "      <td>54.0</td>\n",
       "      <td>0.9970</td>\n",
       "      <td>3.26</td>\n",
       "      <td>0.65</td>\n",
       "      <td>9.8</td>\n",
       "    </tr>\n",
       "    <tr>\n",
       "      <th>3</th>\n",
       "      <td>11.2</td>\n",
       "      <td>0.28</td>\n",
       "      <td>0.56</td>\n",
       "      <td>1.9</td>\n",
       "      <td>0.075</td>\n",
       "      <td>17.0</td>\n",
       "      <td>60.0</td>\n",
       "      <td>0.9980</td>\n",
       "      <td>3.16</td>\n",
       "      <td>0.58</td>\n",
       "      <td>9.8</td>\n",
       "    </tr>\n",
       "    <tr>\n",
       "      <th>4</th>\n",
       "      <td>7.4</td>\n",
       "      <td>0.70</td>\n",
       "      <td>0.00</td>\n",
       "      <td>1.9</td>\n",
       "      <td>0.076</td>\n",
       "      <td>11.0</td>\n",
       "      <td>34.0</td>\n",
       "      <td>0.9978</td>\n",
       "      <td>3.51</td>\n",
       "      <td>0.56</td>\n",
       "      <td>9.4</td>\n",
       "    </tr>\n",
       "  </tbody>\n",
       "</table>\n",
       "</div>"
      ],
      "text/plain": [
       "   fixed_acidity  volatile_acidity  citric_acid  residual_sugar  chlorides  \\\n",
       "0            7.4              0.70         0.00             1.9      0.076   \n",
       "1            7.8              0.88         0.00             2.6      0.098   \n",
       "2            7.8              0.76         0.04             2.3      0.092   \n",
       "3           11.2              0.28         0.56             1.9      0.075   \n",
       "4            7.4              0.70         0.00             1.9      0.076   \n",
       "\n",
       "   free_sulfur_dioxide  total_sulfur_dioxide  density    pH  sulphates  \\\n",
       "0                 11.0                  34.0   0.9978  3.51       0.56   \n",
       "1                 25.0                  67.0   0.9968  3.20       0.68   \n",
       "2                 15.0                  54.0   0.9970  3.26       0.65   \n",
       "3                 17.0                  60.0   0.9980  3.16       0.58   \n",
       "4                 11.0                  34.0   0.9978  3.51       0.56   \n",
       "\n",
       "   alcohol  \n",
       "0      9.4  \n",
       "1      9.8  \n",
       "2      9.8  \n",
       "3      9.8  \n",
       "4      9.4  "
      ]
     },
     "execution_count": 4,
     "metadata": {},
     "output_type": "execute_result"
    }
   ],
   "source": [
    "data.data.features.head()"
   ]
  },
  {
   "cell_type": "code",
   "execution_count": 5,
   "id": "890a8097-e97f-405f-a611-d08611ba18e2",
   "metadata": {},
   "outputs": [
    {
     "data": {
      "text/html": [
       "<div>\n",
       "<style scoped>\n",
       "    .dataframe tbody tr th:only-of-type {\n",
       "        vertical-align: middle;\n",
       "    }\n",
       "\n",
       "    .dataframe tbody tr th {\n",
       "        vertical-align: top;\n",
       "    }\n",
       "\n",
       "    .dataframe thead th {\n",
       "        text-align: right;\n",
       "    }\n",
       "</style>\n",
       "<table border=\"1\" class=\"dataframe\">\n",
       "  <thead>\n",
       "    <tr style=\"text-align: right;\">\n",
       "      <th></th>\n",
       "      <th>quality</th>\n",
       "    </tr>\n",
       "  </thead>\n",
       "  <tbody>\n",
       "    <tr>\n",
       "      <th>0</th>\n",
       "      <td>5</td>\n",
       "    </tr>\n",
       "    <tr>\n",
       "      <th>1</th>\n",
       "      <td>5</td>\n",
       "    </tr>\n",
       "    <tr>\n",
       "      <th>2</th>\n",
       "      <td>5</td>\n",
       "    </tr>\n",
       "    <tr>\n",
       "      <th>3</th>\n",
       "      <td>6</td>\n",
       "    </tr>\n",
       "    <tr>\n",
       "      <th>4</th>\n",
       "      <td>5</td>\n",
       "    </tr>\n",
       "  </tbody>\n",
       "</table>\n",
       "</div>"
      ],
      "text/plain": [
       "   quality\n",
       "0        5\n",
       "1        5\n",
       "2        5\n",
       "3        6\n",
       "4        5"
      ]
     },
     "execution_count": 5,
     "metadata": {},
     "output_type": "execute_result"
    }
   ],
   "source": [
    "data.data.targets.head()"
   ]
  },
  {
   "cell_type": "code",
   "execution_count": 6,
   "id": "607bbf82-48b7-447c-86e6-5fb1bad6adc7",
   "metadata": {},
   "outputs": [
    {
     "data": {
      "text/plain": [
       "<Axes: xlabel='quality', ylabel='count'>"
      ]
     },
     "execution_count": 6,
     "metadata": {},
     "output_type": "execute_result"
    },
    {
     "data": {
      "image/png": "[encoded data removed]",
      "text/plain": [
       "<Figure size 640x480 with 1 Axes>"
      ]
     },
     "metadata": {},
     "output_type": "display_data"
    }
   ],
   "source": [
    "fig, ax = plt.subplots()\n",
    "sns.countplot(data=data.data.targets, x='quality', ax=ax)"
   ]
  },
  {
   "cell_type": "code",
   "execution_count": 7,
   "id": "16600fb4-d23e-45ef-bcb1-c12c0354b6eb",
   "metadata": {},
   "outputs": [
    {
     "data": {
      "image/png": "[encoded data removed]",
      "text/plain": [
       "<Figure size 1500x1000 with 12 Axes>"
      ]
     },
     "metadata": {},
     "output_type": "display_data"
    }
   ],
   "source": [
    "fig, axarr = plt.subplots(figsize=(15, 10), ncols=4, nrows=3)\n",
    "\n",
    "for ax, column in zip(axarr.ravel(), data.data.features.columns):\n",
    "    ax.hist(data.data.features[column], bins=20)\n",
    "    ax.set_xlabel(column)\n",
    "    ax.set_ylabel('count')"
   ]
  },
  {
   "cell_type": "markdown",
   "id": "b081526e-8e09-4774-97ee-7eda68c5c4d5",
   "metadata": {},
   "source": [
    "# Convert data to torch.Tensor"
   ]
  },
  {
   "cell_type": "code",
   "execution_count": 8,
   "id": "783cdf90-0211-4944-958e-551e0f8a9e39",
   "metadata": {},
   "outputs": [],
   "source": [
    "x = data.data.features.to_numpy(dtype=np.float32)\n",
    "x = torch.from_numpy(x)"
   ]
  },
  {
   "cell_type": "code",
   "execution_count": 9,
   "id": "531d353d-0f7b-4aed-a05a-c02f5fbcc0f4",
   "metadata": {},
   "outputs": [],
   "source": [
    "y = data.data.targets.to_numpy(dtype=np.float32)\n",
    "y = torch.from_numpy(y)"
   ]
  },
  {
   "cell_type": "markdown",
   "id": "3abf0f80-1596-4508-aacd-127ccbc4d0c9",
   "metadata": {},
   "source": [
    "## Split the dataset"
   ]
  },
  {
   "cell_type": "code",
   "execution_count": 10,
   "id": "dccc205a-4e96-49e8-a729-3681e417e12c",
   "metadata": {},
   "outputs": [],
   "source": [
    "x_train, x_test, y_train, y_test = train_test_split(x, y, test_size=0.2)\n",
    "x_train, x_val, y_train, y_val = train_test_split(x_train, y_train, test_size=0.2)"
   ]
  },
  {
   "cell_type": "code",
   "execution_count": 11,
   "id": "4a811026-46d3-49b9-b6d1-024697908bbd",
   "metadata": {},
   "outputs": [
    {
     "data": {
      "text/plain": [
       "(4157, 1040, 1300)"
      ]
     },
     "execution_count": 11,
     "metadata": {},
     "output_type": "execute_result"
    }
   ],
   "source": [
    "len(x_train), len(x_val), len(x_test)"
   ]
  },
  {
   "cell_type": "markdown",
   "id": "03daf8e1-af16-4a87-ba8d-c0c4140292f7",
   "metadata": {},
   "source": [
    "## Preprocessing"
   ]
  },
  {
   "cell_type": "markdown",
   "id": "b1dd4c0c-d4ad-43c0-b17d-3f674c830eae",
   "metadata": {},
   "source": [
    "### Apply standardisation to inputs"
   ]
  },
  {
   "cell_type": "code",
   "execution_count": 12,
   "id": "8b5c2ac0-e218-46d8-863d-e0e0bc75cf4f",
   "metadata": {},
   "outputs": [
    {
     "name": "stdout",
     "output_type": "stream",
     "text": [
      "       fixed_acidity: mean=  7.227, std= 1.301\n",
      "    volatile_acidity: mean=  0.339, std= 0.165\n",
      "         citric_acid: mean=  0.321, std= 0.147\n",
      "      residual_sugar: mean=  5.428, std= 4.785\n",
      "           chlorides: mean=  0.056, std= 0.034\n",
      " free_sulfur_dioxide: mean= 30.307, std=17.587\n",
      "total_sulfur_dioxide: mean=114.848, std=56.609\n",
      "             density: mean=  0.995, std= 0.003\n",
      "                  pH: mean=  3.218, std= 0.162\n",
      "           sulphates: mean=  0.532, std= 0.145\n",
      "             alcohol: mean= 10.491, std= 1.183\n"
     ]
    }
   ],
   "source": [
    "x_mean = x_train.mean(dim=0)\n",
    "x_std = x_train.std(dim=0)\n",
    "for name, mean, std in zip(data.data.features.columns, x_mean, x_std):\n",
    "    print(f'{name: >20s}: {mean=: >7.3f}, {std=: >6.3f}')"
   ]
  },
  {
   "cell_type": "code",
   "execution_count": 13,
   "id": "87a2aa22-ea01-47f8-b0e5-53c2131d978a",
   "metadata": {},
   "outputs": [],
   "source": [
    "x_train = (x_train - x_mean) / x_std\n",
    "x_val = (x_val - x_mean) / x_std\n",
    "x_test = (x_test - x_mean) / x_std"
   ]
  },
  {
   "cell_type": "markdown",
   "id": "78f7a0a1-02f0-4a82-b5a5-a69e5f70e21c",
   "metadata": {},
   "source": [
    "### Apply min-max scaling to targets"
   ]
  },
  {
   "cell_type": "code",
   "execution_count": 14,
   "id": "f50f8842-abb0-44cd-8844-056989fb3b81",
   "metadata": {},
   "outputs": [],
   "source": [
    "y_min = y.min(dim=0).values\n",
    "y_max = y.max(dim=0).values\n",
    "y_range = (y_max - y_min)"
   ]
  },
  {
   "cell_type": "code",
   "execution_count": 15,
   "id": "e32f908b-06b4-4471-abf6-1bfcd789bb19",
   "metadata": {},
   "outputs": [],
   "source": [
    "y_train = (y_train - y_min) / y_range\n",
    "y_val = (y_val - y_min) / y_range\n",
    "y_test = (y_test - y_min) / y_range"
   ]
  },
  {
   "cell_type": "markdown",
   "id": "f5d4f9c0-cfc7-4cb2-89e3-a6270efe625e",
   "metadata": {},
   "source": [
    "## Dataset"
   ]
  },
  {
   "cell_type": "code",
   "execution_count": 16,
   "id": "2d9e3ba1-aa34-4503-8ada-54659fd57f1b",
   "metadata": {},
   "outputs": [],
   "source": [
    "train_set = TensorDataset(x_train, y_train)\n",
    "val_set = TensorDataset(x_val, y_val)\n",
    "test_set = TensorDataset(x_test, y_test)"
   ]
  },
  {
   "cell_type": "markdown",
   "id": "8dc797fd-7b85-48f1-9d91-8e500a5e17ef",
   "metadata": {},
   "source": [
    "# Model"
   ]
  },
  {
   "cell_type": "code",
   "execution_count": 17,
   "id": "3a80afde-d544-40f1-9cc0-f5eae5b22a83",
   "metadata": {},
   "outputs": [],
   "source": [
    "class MultiLayerPerceptron(nn.Module):\n",
    "\n",
    "    def __init__(self,\n",
    "                 input_dim: int,\n",
    "                 output_dim: int,\n",
    "    ):\n",
    "        \"\"\"\n",
    "        \"\"\"\n",
    "        super().__init__()\n",
    "\n",
    "        hidden_dim_0 = 64\n",
    "        hidden_dim_1 = 64\n",
    "        \n",
    "        # 1st hidden layer\n",
    "        ## affine transformation\n",
    "        self.linear_0 = nn.Linear(input_dim, hidden_dim_0, bias=True)\n",
    "        ## activation\n",
    "        self.act_0 = nn.ReLU()\n",
    "\n",
    "        # 2nd hidden layer\n",
    "        ## affine transformation\n",
    "        self.linear_1 = nn.Linear(hidden_dim_0, hidden_dim_1, bias=True)\n",
    "        ## activation\n",
    "        self.act_1 = nn.ReLU()\n",
    "\n",
    "        # output layer\n",
    "        ## affine transformation\n",
    "        self.linear_2 = nn.Linear(hidden_dim_1, output_dim, bias=True)\n",
    "\n",
    "\n",
    "    def forward(self, input: Tensor) -> Tensor:\n",
    "        \"\"\"\n",
    "        Args:\n",
    "            input: a flaot32 Tensor\n",
    "        Returns:\n",
    "            output: a float32 Tensor\n",
    "        Shape:\n",
    "            input: (N, D_in), where N denotes batch size and D_in denotes `input_dim`\n",
    "            output: (N, D_out), where D_out denotes `output_dim`\n",
    "        \"\"\"\n",
    "        # alias \n",
    "        x = input\n",
    "        \n",
    "        h = self.linear_0(x)\n",
    "        h = self.act_0(h)\n",
    "        h = self.linear_1(h)\n",
    "        h = self.act_1(h)\n",
    "        h = self.linear_2(h)\n",
    "        return h"
   ]
  },
  {
   "cell_type": "code",
   "execution_count": 18,
   "id": "43b555ce-7aac-4c6f-8c40-be9d182cf18c",
   "metadata": {},
   "outputs": [],
   "source": [
    "# or we can use a simpler API\n",
    "model = nn.Sequential(\n",
    "    nn.Linear(11, 64, bias=True),\n",
    "    nn.ReLU(),\n",
    "    nn.Linear(64, 64, bias=True),\n",
    "    nn.ReLU(),\n",
    "    nn.Linear(64, 1, bias=True)\n",
    ")"
   ]
  },
  {
   "cell_type": "code",
   "execution_count": 19,
   "id": "1dea31d7-c90f-4379-90f1-52b844d3123c",
   "metadata": {},
   "outputs": [
    {
     "data": {
      "text/plain": [
       "Sequential(\n",
       "  (0): Linear(in_features=11, out_features=64, bias=True)\n",
       "  (1): ReLU()\n",
       "  (2): Linear(in_features=64, out_features=64, bias=True)\n",
       "  (3): ReLU()\n",
       "  (4): Linear(in_features=64, out_features=1, bias=True)\n",
       ")"
      ]
     },
     "execution_count": 19,
     "metadata": {},
     "output_type": "execute_result"
    }
   ],
   "source": [
    "model"
   ]
  },
  {
   "cell_type": "code",
   "execution_count": 20,
   "id": "c0077d32-5e0a-4387-a42e-9912336e9a27",
   "metadata": {},
   "outputs": [
    {
     "name": "stdout",
     "output_type": "stream",
     "text": [
      "            0.weight: shape=(64, 11), torch.float32, cpu\n",
      "              0.bias: shape=(64,), torch.float32, cpu\n",
      "            2.weight: shape=(64, 64), torch.float32, cpu\n",
      "              2.bias: shape=(64,), torch.float32, cpu\n",
      "            4.weight: shape=(1, 64), torch.float32, cpu\n",
      "              4.bias: shape=(1,), torch.float32, cpu\n",
      "num_parameters=4_993\n"
     ]
    }
   ],
   "source": [
    "for name, parameter in model.named_parameters():\n",
    "    shape = tuple(parameter.shape)\n",
    "    print(f'{name: >20s}: {shape=}, {parameter.dtype}, {parameter.device}')\n",
    "\n",
    "num_parameters = sum(each.numel() for each in model.parameters())\n",
    "print(f'{num_parameters=:_d}')"
   ]
  },
  {
   "cell_type": "markdown",
   "id": "5c44a21f-cc6a-4cf8-abbb-19d52d65a91d",
   "metadata": {},
   "source": [
    "# Use GPUs!"
   ]
  },
  {
   "cell_type": "code",
   "execution_count": 21,
   "id": "08f4ad8f-349b-427a-93c2-b84c8480b482",
   "metadata": {},
   "outputs": [
    {
     "name": "stdout",
     "output_type": "stream",
     "text": [
      "Wed Sep 25 16:30:50 2024       \n",
      "+-----------------------------------------------------------------------------------------+\n",
      "| NVIDIA-SMI 560.28.03              Driver Version: 560.28.03      CUDA Version: 12.6     |\n",
      "|-----------------------------------------+------------------------+----------------------+\n",
      "| GPU  Name                 Persistence-M | Bus-Id          Disp.A | Volatile Uncorr. ECC |\n",
      "| Fan  Temp   Perf          Pwr:Usage/Cap |           Memory-Usage | GPU-Util  Compute M. |\n",
      "|                                         |                        |               MIG M. |\n",
      "|=========================================+========================+======================|\n",
      "|   0  Tesla V100-SXM2-32GB           Off |   00000000:0B:00.0 Off |                    0 |\n",
      "| N/A   37C    P0             43W /  300W |       1MiB /  32768MiB |      0%      Default |\n",
      "|                                         |                        |                  N/A |\n",
      "+-----------------------------------------+------------------------+----------------------+\n",
      "|   1  Tesla V100-SXM2-32GB           Off |   00000000:0C:00.0 Off |                    0 |\n",
      "| N/A   38C    P0             43W /  300W |       1MiB /  32768MiB |      0%      Default |\n",
      "|                                         |                        |                  N/A |\n",
      "+-----------------------------------------+------------------------+----------------------+\n",
      "|   2  Tesla V100-SXM2-32GB           Off |   00000000:0F:00.0 Off |                    0 |\n",
      "| N/A   40C    P0             43W /  300W |       1MiB /  32768MiB |      0%      Default |\n",
      "|                                         |                        |                  N/A |\n",
      "+-----------------------------------------+------------------------+----------------------+\n",
      "|   3  Tesla V100-SXM2-32GB           Off |   00000000:10:00.0 Off |                    0 |\n",
      "| N/A   35C    P0             42W /  300W |       1MiB /  32768MiB |      0%      Default |\n",
      "|                                         |                        |                  N/A |\n",
      "+-----------------------------------------+------------------------+----------------------+\n",
      "|   4  Tesla V100-SXM2-32GB           Off |   00000000:8A:00.0 Off |                    0 |\n",
      "| N/A   36C    P0             44W /  300W |       1MiB /  32768MiB |      0%      Default |\n",
      "|                                         |                        |                  N/A |\n",
      "+-----------------------------------------+------------------------+----------------------+\n",
      "|   5  Tesla V100-SXM2-32GB           Off |   00000000:8B:00.0 Off |                    0 |\n",
      "| N/A   37C    P0             42W /  300W |       1MiB /  32768MiB |      0%      Default |\n",
      "|                                         |                        |                  N/A |\n",
      "+-----------------------------------------+------------------------+----------------------+\n",
      "|   6  Tesla V100-SXM2-32GB           Off |   00000000:8E:00.0 Off |                    0 |\n",
      "| N/A   40C    P0             45W /  300W |       1MiB /  32768MiB |      0%      Default |\n",
      "|                                         |                        |                  N/A |\n",
      "+-----------------------------------------+------------------------+----------------------+\n",
      "|   7  Tesla V100-SXM2-32GB           Off |   00000000:8F:00.0 Off |                    0 |\n",
      "| N/A   35C    P0             45W /  300W |       1MiB /  32768MiB |      0%      Default |\n",
      "|                                         |                        |                  N/A |\n",
      "+-----------------------------------------+------------------------+----------------------+\n",
      "                                                                                         \n",
      "+-----------------------------------------------------------------------------------------+\n",
      "| Processes:                                                                              |\n",
      "|  GPU   GI   CI        PID   Type   Process name                              GPU Memory |\n",
      "|        ID   ID                                                               Usage      |\n",
      "|=========================================================================================|\n",
      "|  No running processes found                                                             |\n",
      "+-----------------------------------------------------------------------------------------+\n"
     ]
    }
   ],
   "source": [
    "!nvidia-smi"
   ]
  },
  {
   "cell_type": "code",
   "execution_count": 22,
   "id": "ebb2b0de-6ce2-4b0d-9dc0-8a8cb3cc1a43",
   "metadata": {},
   "outputs": [],
   "source": [
    "device = torch.device('cuda:0')"
   ]
  },
  {
   "cell_type": "code",
   "execution_count": 23,
   "id": "0c1bc543-f8f7-4973-8525-498202997225",
   "metadata": {},
   "outputs": [],
   "source": [
    "model = model.to(device)"
   ]
  },
  {
   "cell_type": "markdown",
   "id": "e97e9d89-7bf3-46a2-acc8-a45a62851a6c",
   "metadata": {},
   "source": [
    "- [Mean squared error loss function](https://pytorch.org/docs/stable/generated/torch.nn.MSELoss.html)\n",
    "- The choice of a loss function is also one of hyperparameters"
   ]
  },
  {
   "cell_type": "code",
   "execution_count": 24,
   "id": "e130cf60-5811-4099-bd3b-b15e3e0015f3",
   "metadata": {},
   "outputs": [],
   "source": [
    "criterion = nn.MSELoss().to(device)"
   ]
  },
  {
   "cell_type": "code",
   "execution_count": 25,
   "id": "1b00412e-7429-4adb-8e61-0a8717245eed",
   "metadata": {},
   "outputs": [],
   "source": [
    "optimizer = SGD(\n",
    "    params=model.parameters(),\n",
    "    lr=1e-3 # hyperparameters!hyperparameters!\n",
    ")"
   ]
  },
  {
   "cell_type": "code",
   "execution_count": 26,
   "id": "772809da-fb6e-405f-a164-df444ca76d8f",
   "metadata": {},
   "outputs": [],
   "source": [
    "train_loader = DataLoader(\n",
    "    dataset=train_set,\n",
    "    batch_size=64, # hyperparameters!\n",
    "    shuffle=True, # to do \"stochastic\" gradient descent\n",
    "    drop_last=True\n",
    ")\n",
    "\n",
    "val_loader = DataLoader(\n",
    "    dataset=val_set,\n",
    "    batch_size=64,\n",
    "    shuffle=False,\n",
    "    drop_last=False\n",
    ")"
   ]
  },
  {
   "cell_type": "code",
   "execution_count": 28,
   "id": "7a38c677-786c-41e0-80fc-9d0a030dc3e3",
   "metadata": {},
   "outputs": [
    {
     "name": "stderr",
     "output_type": "stream",
     "text": [
      "Epoch= 100: min_val_loss=0.016850 @ best_epoch=100: 100%|████████████████████████████████████████████████████████████████████████████████████████████████████████████████████████████████████████| 101/101 [00:10<00:00,  9.41it/s]\n"
     ]
    }
   ],
   "source": [
    "min_val_loss = float('inf')\n",
    "best_epoch = -1\n",
    "best_checkpoint_path = './best.pt'\n",
    "\n",
    "train_curve: list[dict[str, float]] = []\n",
    "val_curve: list[dict[str, float]] = []\n",
    "\n",
    "num_epochs = 100 # hyperparameters!\n",
    "\n",
    "global_step = 0\n",
    "for epoch in (pbar := tqdm.trange(num_epochs + 1)):\n",
    "    if epoch >= 1:\n",
    "        model.train()\n",
    "        for x, y_true in train_loader:\n",
    "            x, y_true = x.to(device), y_true.to(device)\n",
    "        \n",
    "            optimizer.zero_grad()\n",
    "            y_score = model(x)\n",
    "            loss = criterion(input=y_score, target=y_true) \n",
    "    \n",
    "            # magic here\n",
    "            loss.backward()\n",
    "            optimizer.step()\n",
    "    \n",
    "            global_step += 1\n",
    "            train_curve.append({\n",
    "                'step': global_step,\n",
    "                'loss': loss.item()\n",
    "            })\n",
    "\n",
    "    model.eval()\n",
    "    val_loss = 0\n",
    "    with torch.no_grad():\n",
    "        for x, y_true in val_loader:\n",
    "            x, y_true = x.to(device), y_true.to(device)\n",
    "            y_score = model(x)\n",
    "            loss = criterion(input=y_score, target=y_true)\n",
    "            val_loss += loss.item()\n",
    "        # divide \n",
    "    val_loss /= len(val_loader)\n",
    "    \n",
    "    val_curve.append({\n",
    "        'step': global_step,\n",
    "        'loss': val_loss,\n",
    "    })\n",
    "\n",
    "    if val_loss < min_val_loss:\n",
    "        min_val_loss = val_loss\n",
    "        best_epoch = epoch\n",
    "\n",
    "        \n",
    "        torch.save(x, best_checkpoint_path)\n",
    "\n",
    "    pbar.set_description(f'Epoch={epoch: >4d}: {min_val_loss=:.6f} @ {best_epoch=}')"
   ]
  },
  {
   "cell_type": "code",
   "execution_count": 29,
   "id": "e90888b1-9d1b-4a1e-b60c-94aa92a2d859",
   "metadata": {},
   "outputs": [],
   "source": [
    "train_curve = pd.DataFrame(train_curve)\n",
    "val_curve = pd.DataFrame(val_curve)"
   ]
  },
  {
   "cell_type": "code",
   "execution_count": 30,
   "id": "3b9943ac-73d9-4375-ad19-92affc123400",
   "metadata": {},
   "outputs": [
    {
     "data": {
      "text/plain": [
       "Text(0, 0.5, 'MSELoss')"
      ]
     },
     "execution_count": 30,
     "metadata": {},
     "output_type": "execute_result"
    },
    {
     "data": {
      "image/png": "[encoded data removed]",
      "text/plain": [
       "<Figure size 640x480 with 1 Axes>"
      ]
     },
     "metadata": {},
     "output_type": "display_data"
    }
   ],
   "source": [
    "fig, ax = plt.subplots()\n",
    "ax.plot(train_curve['step'], train_curve['loss'], label='Training', alpha=0.2)\n",
    "ax.plot(val_curve['step'], val_curve['loss'], label='Validation', marker='s', ls='--', lw=2)\n",
    "\n",
    "best_val_idx = val_curve['loss'].argmin()\n",
    "ax.plot(val_curve['step'].iloc[best_val_idx], val_curve['loss'].iloc[best_val_idx], label='BEST', marker='*', markersize=20)\n",
    "    \n",
    "ax.legend()\n",
    "ax.set_xlabel('Training Step')\n",
    "ax.set_ylabel(criterion.__class__.__name__)"
   ]
  },
  {
   "cell_type": "code",
   "execution_count": 31,
   "id": "0dd2b3bb-ff2f-4a07-a6bb-ae43f7b0d987",
   "metadata": {},
   "outputs": [],
   "source": [
    "test_loader = DataLoader(\n",
    "    dataset=test_set,\n",
    "    batch_size=64,\n",
    "    shuffle=False,\n",
    "    drop_last=False\n",
    ")"
   ]
  },
  {
   "cell_type": "code",
   "execution_count": 32,
   "id": "10c8a640-97bf-4742-aa53-5578735efcb4",
   "metadata": {},
   "outputs": [
    {
     "name": "stdout",
     "output_type": "stream",
     "text": [
      "test_loss=0.02\n",
      "100 * test_acc=50.69%\n"
     ]
    }
   ],
   "source": [
    "model.eval()\n",
    "\n",
    "test_loss = 0\n",
    "test_total = 0\n",
    "test_correct = 0\n",
    "\n",
    "with torch.no_grad():\n",
    "    for x, y_true in test_loader:\n",
    "        x, y_true = x.to(device), y_true.to(device)\n",
    "        y_score = model(x)\n",
    "\n",
    "        loss = criterion(input=y_score, target=y_true)\n",
    "        test_loss += loss.item()\n",
    "\n",
    "        # undo preprocessing and round\n",
    "        y_pred = (y_score.cpu() * y_range + y_min).round().long()\n",
    "        y_true = (y_true.cpu() * y_range + y_min).round().long()\n",
    "\n",
    "        y_true = y_true.long()\n",
    "\n",
    "        test_total += len(y_true)\n",
    "        test_correct += y_pred.eq(y_true).sum().item()\n",
    "\n",
    "        \n",
    "\n",
    "test_loss /= len(test_loader)\n",
    "test_acc = test_correct / test_total\n",
    "\n",
    "print(f'{test_loss=:.2f}')\n",
    "print(f'{100 * test_acc=:.2f}%')"
   ]
  }
 ],
 "metadata": {
  "kernelspec": {
   "display_name": "lec-24-2-dl",
   "language": "python",
   "name": "lec-24-2-dl"
  },
  "language_info": {
   "codemirror_mode": {
    "name": "ipython",
    "version": 3
   },
   "file_extension": ".py",
   "mimetype": "text/x-python",
   "name": "python",
   "nbconvert_exporter": "python",
   "pygments_lexer": "ipython3",
   "version": "3.11.10"
  }
 },
 "nbformat": 4,
 "nbformat_minor": 5
}
