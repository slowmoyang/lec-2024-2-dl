{
 "cells": [
  {
   "cell_type": "code",
   "execution_count": 1,
   "id": "e91049ff-404c-4e2a-9765-7cc70417b8d8",
   "metadata": {},
   "outputs": [],
   "source": [
    "%matplotlib inline"
   ]
  },
  {
   "cell_type": "code",
   "execution_count": 34,
   "id": "bf60ddfa-436b-4aae-bccc-cd0bea8e226d",
   "metadata": {},
   "outputs": [],
   "source": [
    "import matplotlib.pyplot as plt\n",
    "import seaborn as sns\n",
    "from ucimlrepo import fetch_ucirepo\n",
    "import numpy as np\n",
    "import torch\n",
    "from torch import Tensor\n",
    "from torch.optim import SGD\n",
    "from torch.utils.data import TensorDataset, DataLoader\n",
    "from sklearn.model_selection import train_test_split\n",
    "import tqdm\n",
    "import pandas as pd\n",
    "from typing import Type\n",
    "import torch\n",
    "import torch.nn as nn"
   ]
  },
  {
   "cell_type": "markdown",
   "id": "515e01e9-d104-4bf2-951f-c916ed52f798",
   "metadata": {},
   "source": [
    "## Get the data"
   ]
  },
  {
   "cell_type": "code",
   "execution_count": 3,
   "id": "b8a76d6a-b670-4a9b-8424-28ee9c3d9d60",
   "metadata": {},
   "outputs": [],
   "source": [
    "# fetch dataset \n",
    "# https://archive.ics.uci.edu/dataset/186/wine+quality\n",
    "data = fetch_ucirepo(name='wine quality')"
   ]
  },
  {
   "cell_type": "code",
   "execution_count": 4,
   "id": "9b0d7020-462b-4946-9818-1447dba6aca0",
   "metadata": {},
   "outputs": [
    {
     "data": {
      "text/html": [
       "<div>\n",
       "<style scoped>\n",
       "    .dataframe tbody tr th:only-of-type {\n",
       "        vertical-align: middle;\n",
       "    }\n",
       "\n",
       "    .dataframe tbody tr th {\n",
       "        vertical-align: top;\n",
       "    }\n",
       "\n",
       "    .dataframe thead th {\n",
       "        text-align: right;\n",
       "    }\n",
       "</style>\n",
       "<table border=\"1\" class=\"dataframe\">\n",
       "  <thead>\n",
       "    <tr style=\"text-align: right;\">\n",
       "      <th></th>\n",
       "      <th>name</th>\n",
       "      <th>role</th>\n",
       "      <th>type</th>\n",
       "      <th>demographic</th>\n",
       "      <th>description</th>\n",
       "      <th>units</th>\n",
       "      <th>missing_values</th>\n",
       "    </tr>\n",
       "  </thead>\n",
       "  <tbody>\n",
       "    <tr>\n",
       "      <th>0</th>\n",
       "      <td>fixed_acidity</td>\n",
       "      <td>Feature</td>\n",
       "      <td>Continuous</td>\n",
       "      <td>None</td>\n",
       "      <td>None</td>\n",
       "      <td>None</td>\n",
       "      <td>no</td>\n",
       "    </tr>\n",
       "    <tr>\n",
       "      <th>1</th>\n",
       "      <td>volatile_acidity</td>\n",
       "      <td>Feature</td>\n",
       "      <td>Continuous</td>\n",
       "      <td>None</td>\n",
       "      <td>None</td>\n",
       "      <td>None</td>\n",
       "      <td>no</td>\n",
       "    </tr>\n",
       "    <tr>\n",
       "      <th>2</th>\n",
       "      <td>citric_acid</td>\n",
       "      <td>Feature</td>\n",
       "      <td>Continuous</td>\n",
       "      <td>None</td>\n",
       "      <td>None</td>\n",
       "      <td>None</td>\n",
       "      <td>no</td>\n",
       "    </tr>\n",
       "    <tr>\n",
       "      <th>3</th>\n",
       "      <td>residual_sugar</td>\n",
       "      <td>Feature</td>\n",
       "      <td>Continuous</td>\n",
       "      <td>None</td>\n",
       "      <td>None</td>\n",
       "      <td>None</td>\n",
       "      <td>no</td>\n",
       "    </tr>\n",
       "    <tr>\n",
       "      <th>4</th>\n",
       "      <td>chlorides</td>\n",
       "      <td>Feature</td>\n",
       "      <td>Continuous</td>\n",
       "      <td>None</td>\n",
       "      <td>None</td>\n",
       "      <td>None</td>\n",
       "      <td>no</td>\n",
       "    </tr>\n",
       "    <tr>\n",
       "      <th>5</th>\n",
       "      <td>free_sulfur_dioxide</td>\n",
       "      <td>Feature</td>\n",
       "      <td>Continuous</td>\n",
       "      <td>None</td>\n",
       "      <td>None</td>\n",
       "      <td>None</td>\n",
       "      <td>no</td>\n",
       "    </tr>\n",
       "    <tr>\n",
       "      <th>6</th>\n",
       "      <td>total_sulfur_dioxide</td>\n",
       "      <td>Feature</td>\n",
       "      <td>Continuous</td>\n",
       "      <td>None</td>\n",
       "      <td>None</td>\n",
       "      <td>None</td>\n",
       "      <td>no</td>\n",
       "    </tr>\n",
       "    <tr>\n",
       "      <th>7</th>\n",
       "      <td>density</td>\n",
       "      <td>Feature</td>\n",
       "      <td>Continuous</td>\n",
       "      <td>None</td>\n",
       "      <td>None</td>\n",
       "      <td>None</td>\n",
       "      <td>no</td>\n",
       "    </tr>\n",
       "    <tr>\n",
       "      <th>8</th>\n",
       "      <td>pH</td>\n",
       "      <td>Feature</td>\n",
       "      <td>Continuous</td>\n",
       "      <td>None</td>\n",
       "      <td>None</td>\n",
       "      <td>None</td>\n",
       "      <td>no</td>\n",
       "    </tr>\n",
       "    <tr>\n",
       "      <th>9</th>\n",
       "      <td>sulphates</td>\n",
       "      <td>Feature</td>\n",
       "      <td>Continuous</td>\n",
       "      <td>None</td>\n",
       "      <td>None</td>\n",
       "      <td>None</td>\n",
       "      <td>no</td>\n",
       "    </tr>\n",
       "    <tr>\n",
       "      <th>10</th>\n",
       "      <td>alcohol</td>\n",
       "      <td>Feature</td>\n",
       "      <td>Continuous</td>\n",
       "      <td>None</td>\n",
       "      <td>None</td>\n",
       "      <td>None</td>\n",
       "      <td>no</td>\n",
       "    </tr>\n",
       "    <tr>\n",
       "      <th>11</th>\n",
       "      <td>quality</td>\n",
       "      <td>Target</td>\n",
       "      <td>Integer</td>\n",
       "      <td>None</td>\n",
       "      <td>score between 0 and 10</td>\n",
       "      <td>None</td>\n",
       "      <td>no</td>\n",
       "    </tr>\n",
       "    <tr>\n",
       "      <th>12</th>\n",
       "      <td>color</td>\n",
       "      <td>Other</td>\n",
       "      <td>Categorical</td>\n",
       "      <td>None</td>\n",
       "      <td>red or white</td>\n",
       "      <td>None</td>\n",
       "      <td>no</td>\n",
       "    </tr>\n",
       "  </tbody>\n",
       "</table>\n",
       "</div>"
      ],
      "text/plain": [
       "                    name     role         type demographic  \\\n",
       "0          fixed_acidity  Feature   Continuous        None   \n",
       "1       volatile_acidity  Feature   Continuous        None   \n",
       "2            citric_acid  Feature   Continuous        None   \n",
       "3         residual_sugar  Feature   Continuous        None   \n",
       "4              chlorides  Feature   Continuous        None   \n",
       "5    free_sulfur_dioxide  Feature   Continuous        None   \n",
       "6   total_sulfur_dioxide  Feature   Continuous        None   \n",
       "7                density  Feature   Continuous        None   \n",
       "8                     pH  Feature   Continuous        None   \n",
       "9              sulphates  Feature   Continuous        None   \n",
       "10               alcohol  Feature   Continuous        None   \n",
       "11               quality   Target      Integer        None   \n",
       "12                 color    Other  Categorical        None   \n",
       "\n",
       "               description units missing_values  \n",
       "0                     None  None             no  \n",
       "1                     None  None             no  \n",
       "2                     None  None             no  \n",
       "3                     None  None             no  \n",
       "4                     None  None             no  \n",
       "5                     None  None             no  \n",
       "6                     None  None             no  \n",
       "7                     None  None             no  \n",
       "8                     None  None             no  \n",
       "9                     None  None             no  \n",
       "10                    None  None             no  \n",
       "11  score between 0 and 10  None             no  \n",
       "12            red or white  None             no  "
      ]
     },
     "execution_count": 4,
     "metadata": {},
     "output_type": "execute_result"
    }
   ],
   "source": [
    "data.variables"
   ]
  },
  {
   "cell_type": "code",
   "execution_count": 5,
   "id": "6b5c6098-4433-4b52-aad1-c18164a5953b",
   "metadata": {},
   "outputs": [
    {
     "data": {
      "text/html": [
       "<div>\n",
       "<style scoped>\n",
       "    .dataframe tbody tr th:only-of-type {\n",
       "        vertical-align: middle;\n",
       "    }\n",
       "\n",
       "    .dataframe tbody tr th {\n",
       "        vertical-align: top;\n",
       "    }\n",
       "\n",
       "    .dataframe thead th {\n",
       "        text-align: right;\n",
       "    }\n",
       "</style>\n",
       "<table border=\"1\" class=\"dataframe\">\n",
       "  <thead>\n",
       "    <tr style=\"text-align: right;\">\n",
       "      <th></th>\n",
       "      <th>fixed_acidity</th>\n",
       "      <th>volatile_acidity</th>\n",
       "      <th>citric_acid</th>\n",
       "      <th>residual_sugar</th>\n",
       "      <th>chlorides</th>\n",
       "      <th>free_sulfur_dioxide</th>\n",
       "      <th>total_sulfur_dioxide</th>\n",
       "      <th>density</th>\n",
       "      <th>pH</th>\n",
       "      <th>sulphates</th>\n",
       "      <th>alcohol</th>\n",
       "    </tr>\n",
       "  </thead>\n",
       "  <tbody>\n",
       "    <tr>\n",
       "      <th>0</th>\n",
       "      <td>7.4</td>\n",
       "      <td>0.70</td>\n",
       "      <td>0.00</td>\n",
       "      <td>1.9</td>\n",
       "      <td>0.076</td>\n",
       "      <td>11.0</td>\n",
       "      <td>34.0</td>\n",
       "      <td>0.9978</td>\n",
       "      <td>3.51</td>\n",
       "      <td>0.56</td>\n",
       "      <td>9.4</td>\n",
       "    </tr>\n",
       "    <tr>\n",
       "      <th>1</th>\n",
       "      <td>7.8</td>\n",
       "      <td>0.88</td>\n",
       "      <td>0.00</td>\n",
       "      <td>2.6</td>\n",
       "      <td>0.098</td>\n",
       "      <td>25.0</td>\n",
       "      <td>67.0</td>\n",
       "      <td>0.9968</td>\n",
       "      <td>3.20</td>\n",
       "      <td>0.68</td>\n",
       "      <td>9.8</td>\n",
       "    </tr>\n",
       "    <tr>\n",
       "      <th>2</th>\n",
       "      <td>7.8</td>\n",
       "      <td>0.76</td>\n",
       "      <td>0.04</td>\n",
       "      <td>2.3</td>\n",
       "      <td>0.092</td>\n",
       "      <td>15.0</td>\n",
       "      <td>54.0</td>\n",
       "      <td>0.9970</td>\n",
       "      <td>3.26</td>\n",
       "      <td>0.65</td>\n",
       "      <td>9.8</td>\n",
       "    </tr>\n",
       "    <tr>\n",
       "      <th>3</th>\n",
       "      <td>11.2</td>\n",
       "      <td>0.28</td>\n",
       "      <td>0.56</td>\n",
       "      <td>1.9</td>\n",
       "      <td>0.075</td>\n",
       "      <td>17.0</td>\n",
       "      <td>60.0</td>\n",
       "      <td>0.9980</td>\n",
       "      <td>3.16</td>\n",
       "      <td>0.58</td>\n",
       "      <td>9.8</td>\n",
       "    </tr>\n",
       "    <tr>\n",
       "      <th>4</th>\n",
       "      <td>7.4</td>\n",
       "      <td>0.70</td>\n",
       "      <td>0.00</td>\n",
       "      <td>1.9</td>\n",
       "      <td>0.076</td>\n",
       "      <td>11.0</td>\n",
       "      <td>34.0</td>\n",
       "      <td>0.9978</td>\n",
       "      <td>3.51</td>\n",
       "      <td>0.56</td>\n",
       "      <td>9.4</td>\n",
       "    </tr>\n",
       "  </tbody>\n",
       "</table>\n",
       "</div>"
      ],
      "text/plain": [
       "   fixed_acidity  volatile_acidity  citric_acid  residual_sugar  chlorides  \\\n",
       "0            7.4              0.70         0.00             1.9      0.076   \n",
       "1            7.8              0.88         0.00             2.6      0.098   \n",
       "2            7.8              0.76         0.04             2.3      0.092   \n",
       "3           11.2              0.28         0.56             1.9      0.075   \n",
       "4            7.4              0.70         0.00             1.9      0.076   \n",
       "\n",
       "   free_sulfur_dioxide  total_sulfur_dioxide  density    pH  sulphates  \\\n",
       "0                 11.0                  34.0   0.9978  3.51       0.56   \n",
       "1                 25.0                  67.0   0.9968  3.20       0.68   \n",
       "2                 15.0                  54.0   0.9970  3.26       0.65   \n",
       "3                 17.0                  60.0   0.9980  3.16       0.58   \n",
       "4                 11.0                  34.0   0.9978  3.51       0.56   \n",
       "\n",
       "   alcohol  \n",
       "0      9.4  \n",
       "1      9.8  \n",
       "2      9.8  \n",
       "3      9.8  \n",
       "4      9.4  "
      ]
     },
     "execution_count": 5,
     "metadata": {},
     "output_type": "execute_result"
    }
   ],
   "source": [
    "data.data.features.head()"
   ]
  },
  {
   "cell_type": "code",
   "execution_count": 6,
   "id": "890a8097-e97f-405f-a611-d08611ba18e2",
   "metadata": {},
   "outputs": [
    {
     "data": {
      "text/html": [
       "<div>\n",
       "<style scoped>\n",
       "    .dataframe tbody tr th:only-of-type {\n",
       "        vertical-align: middle;\n",
       "    }\n",
       "\n",
       "    .dataframe tbody tr th {\n",
       "        vertical-align: top;\n",
       "    }\n",
       "\n",
       "    .dataframe thead th {\n",
       "        text-align: right;\n",
       "    }\n",
       "</style>\n",
       "<table border=\"1\" class=\"dataframe\">\n",
       "  <thead>\n",
       "    <tr style=\"text-align: right;\">\n",
       "      <th></th>\n",
       "      <th>quality</th>\n",
       "    </tr>\n",
       "  </thead>\n",
       "  <tbody>\n",
       "    <tr>\n",
       "      <th>0</th>\n",
       "      <td>5</td>\n",
       "    </tr>\n",
       "    <tr>\n",
       "      <th>1</th>\n",
       "      <td>5</td>\n",
       "    </tr>\n",
       "    <tr>\n",
       "      <th>2</th>\n",
       "      <td>5</td>\n",
       "    </tr>\n",
       "    <tr>\n",
       "      <th>3</th>\n",
       "      <td>6</td>\n",
       "    </tr>\n",
       "    <tr>\n",
       "      <th>4</th>\n",
       "      <td>5</td>\n",
       "    </tr>\n",
       "  </tbody>\n",
       "</table>\n",
       "</div>"
      ],
      "text/plain": [
       "   quality\n",
       "0        5\n",
       "1        5\n",
       "2        5\n",
       "3        6\n",
       "4        5"
      ]
     },
     "execution_count": 6,
     "metadata": {},
     "output_type": "execute_result"
    }
   ],
   "source": [
    "data.data.targets.head()"
   ]
  },
  {
   "cell_type": "code",
   "execution_count": 7,
   "id": "607bbf82-48b7-447c-86e6-5fb1bad6adc7",
   "metadata": {},
   "outputs": [
    {
     "data": {
      "text/plain": [
       "<Axes: xlabel='quality', ylabel='count'>"
      ]
     },
     "execution_count": 7,
     "metadata": {},
     "output_type": "execute_result"
    },
    {
     "data": {
      "image/png": "[encoded data removed]",
      "text/plain": [
       "<Figure size 640x480 with 1 Axes>"
      ]
     },
     "metadata": {},
     "output_type": "display_data"
    }
   ],
   "source": [
    "fig, ax = plt.subplots()\n",
    "sns.countplot(data=data.data.targets, x='quality', ax=ax)"
   ]
  },
  {
   "cell_type": "code",
   "execution_count": 8,
   "id": "16600fb4-d23e-45ef-bcb1-c12c0354b6eb",
   "metadata": {},
   "outputs": [
    {
     "data": {
      "image/png": "[encoded data removed]",
      "text/plain": [
       "<Figure size 1500x1000 with 12 Axes>"
      ]
     },
     "metadata": {},
     "output_type": "display_data"
    }
   ],
   "source": [
    "fig, axarr = plt.subplots(figsize=(15, 10), ncols=4, nrows=3)\n",
    "\n",
    "for ax, column in zip(axarr.ravel(), data.data.features.columns):\n",
    "    ax.hist(data.data.features[column], bins=20)\n",
    "    ax.set_xlabel(column)\n",
    "    ax.set_ylabel('count')"
   ]
  },
  {
   "cell_type": "markdown",
   "id": "b081526e-8e09-4774-97ee-7eda68c5c4d5",
   "metadata": {},
   "source": [
    "# Convert data to torch.Tensor"
   ]
  },
  {
   "cell_type": "code",
   "execution_count": 9,
   "id": "783cdf90-0211-4944-958e-551e0f8a9e39",
   "metadata": {},
   "outputs": [],
   "source": [
    "x = data.data.features.to_numpy(dtype=np.float32)\n",
    "x = torch.from_numpy(x)"
   ]
  },
  {
   "cell_type": "code",
   "execution_count": 10,
   "id": "531d353d-0f7b-4aed-a05a-c02f5fbcc0f4",
   "metadata": {},
   "outputs": [],
   "source": [
    "y = data.data.targets.to_numpy(dtype=np.float32)\n",
    "y = torch.from_numpy(y)"
   ]
  },
  {
   "cell_type": "markdown",
   "id": "3abf0f80-1596-4508-aacd-127ccbc4d0c9",
   "metadata": {},
   "source": [
    "## Split the dataset"
   ]
  },
  {
   "cell_type": "code",
   "execution_count": 11,
   "id": "dccc205a-4e96-49e8-a729-3681e417e12c",
   "metadata": {},
   "outputs": [],
   "source": [
    "x_train, x_test, y_train, y_test = train_test_split(x, y, test_size=0.2)\n",
    "x_train, x_val, y_train, y_val = train_test_split(x_train, y_train, test_size=0.2)"
   ]
  },
  {
   "cell_type": "code",
   "execution_count": 12,
   "id": "4a811026-46d3-49b9-b6d1-024697908bbd",
   "metadata": {},
   "outputs": [
    {
     "data": {
      "text/plain": [
       "(4157, 1040, 1300)"
      ]
     },
     "execution_count": 12,
     "metadata": {},
     "output_type": "execute_result"
    }
   ],
   "source": [
    "len(x_train), len(x_val), len(x_test)"
   ]
  },
  {
   "cell_type": "markdown",
   "id": "03daf8e1-af16-4a87-ba8d-c0c4140292f7",
   "metadata": {},
   "source": [
    "## Preprocessing"
   ]
  },
  {
   "cell_type": "markdown",
   "id": "b1dd4c0c-d4ad-43c0-b17d-3f674c830eae",
   "metadata": {},
   "source": [
    "### Apply standardisation to inputs"
   ]
  },
  {
   "cell_type": "code",
   "execution_count": 13,
   "id": "8b5c2ac0-e218-46d8-863d-e0e0bc75cf4f",
   "metadata": {},
   "outputs": [
    {
     "name": "stdout",
     "output_type": "stream",
     "text": [
      "       fixed_acidity: mean=  7.207, std= 1.302\n",
      "    volatile_acidity: mean=  0.340, std= 0.166\n",
      "         citric_acid: mean=  0.321, std= 0.147\n",
      "      residual_sugar: mean=  5.424, std= 4.687\n",
      "           chlorides: mean=  0.056, std= 0.035\n",
      " free_sulfur_dioxide: mean= 30.547, std=17.863\n",
      "total_sulfur_dioxide: mean=116.251, std=55.943\n",
      "             density: mean=  0.995, std= 0.003\n",
      "                  pH: mean=  3.220, std= 0.160\n",
      "           sulphates: mean=  0.532, std= 0.149\n",
      "             alcohol: mean= 10.483, std= 1.189\n"
     ]
    }
   ],
   "source": [
    "x_mean = x_train.mean(dim=0)\n",
    "x_std = x_train.std(dim=0)\n",
    "for name, mean, std in zip(data.data.features.columns, x_mean, x_std):\n",
    "    print(f'{name: >20s}: {mean=: >7.3f}, {std=: >6.3f}')"
   ]
  },
  {
   "cell_type": "code",
   "execution_count": 14,
   "id": "87a2aa22-ea01-47f8-b0e5-53c2131d978a",
   "metadata": {},
   "outputs": [],
   "source": [
    "x_train = (x_train - x_mean) / x_std\n",
    "x_val = (x_val - x_mean) / x_std\n",
    "x_test = (x_test - x_mean) / x_std"
   ]
  },
  {
   "cell_type": "markdown",
   "id": "78f7a0a1-02f0-4a82-b5a5-a69e5f70e21c",
   "metadata": {},
   "source": [
    "### Apply min-max scaling to targets"
   ]
  },
  {
   "cell_type": "code",
   "execution_count": 15,
   "id": "f50f8842-abb0-44cd-8844-056989fb3b81",
   "metadata": {},
   "outputs": [],
   "source": [
    "y_min = y.min(dim=0).values\n",
    "y_max = y.max(dim=0).values\n",
    "y_range = (y_max - y_min)"
   ]
  },
  {
   "cell_type": "code",
   "execution_count": 16,
   "id": "e32f908b-06b4-4471-abf6-1bfcd789bb19",
   "metadata": {},
   "outputs": [],
   "source": [
    "y_train = (y_train - y_min) / y_range\n",
    "y_val = (y_val - y_min) / y_range\n",
    "y_test = (y_test - y_min) / y_range"
   ]
  },
  {
   "cell_type": "markdown",
   "id": "f5d4f9c0-cfc7-4cb2-89e3-a6270efe625e",
   "metadata": {},
   "source": [
    "## Dataset"
   ]
  },
  {
   "cell_type": "code",
   "execution_count": 17,
   "id": "2d9e3ba1-aa34-4503-8ada-54659fd57f1b",
   "metadata": {},
   "outputs": [],
   "source": [
    "train_set = TensorDataset(x_train, y_train)\n",
    "val_set = TensorDataset(x_val, y_val)\n",
    "test_set = TensorDataset(x_test, y_test)"
   ]
  },
  {
   "cell_type": "markdown",
   "id": "8dc797fd-7b85-48f1-9d91-8e500a5e17ef",
   "metadata": {},
   "source": [
    "# Model"
   ]
  },
  {
   "cell_type": "code",
   "execution_count": 18,
   "id": "3a80afde-d544-40f1-9cc0-f5eae5b22a83",
   "metadata": {},
   "outputs": [],
   "source": [
    "class MultiLayerPerceptron(nn.Module):\n",
    "\n",
    "    def __init__(self,\n",
    "                 input_dim: int,\n",
    "                 output_dim: int,\n",
    "    ):\n",
    "        \"\"\"\n",
    "        \"\"\"\n",
    "        super().__init__()\n",
    "\n",
    "        hidden_dim_0 = 64\n",
    "        hidden_dim_1 = 64\n",
    "        \n",
    "        # 1st hidden layer\n",
    "        ## affine transformation\n",
    "        self.linear_0 = nn.Linear(input_dim, hidden_dim_0, bias=True)\n",
    "        ## activation\n",
    "        self.act_0 = nn.ReLU()\n",
    "\n",
    "        # 2nd hidden layer\n",
    "        ## affine transformation\n",
    "        self.linear_1 = nn.Linear(hidden_dim_0, hidden_dim_1, bias=True)\n",
    "        ## activation\n",
    "        self.act_1 = nn.ReLU()\n",
    "\n",
    "        # output layer\n",
    "        ## affine transformation\n",
    "        self.linear_2 = nn.Linear(hidden_dim_1, output_dim, bias=True)\n",
    "\n",
    "\n",
    "    def forward(self, input: Tensor) -> Tensor:\n",
    "        \"\"\"\n",
    "        Args:\n",
    "            input: a flaot32 Tensor\n",
    "        Returns:\n",
    "            output: a float32 Tensor\n",
    "        Shape:\n",
    "            input: (N, D_in), where N denotes batch size and D_in denotes `input_dim`\n",
    "            output: (N, D_out), where D_out denotes `output_dim`\n",
    "        \"\"\"\n",
    "        # alias \n",
    "        x = input\n",
    "        \n",
    "        h = self.linear_0(x)\n",
    "        h = self.act_0(h)\n",
    "        h = self.linear_1(h)\n",
    "        h = self.act_1(h)\n",
    "        h = self.linear_2(h)\n",
    "        return h"
   ]
  },
  {
   "cell_type": "code",
   "execution_count": 74,
   "id": "43b555ce-7aac-4c6f-8c40-be9d182cf18c",
   "metadata": {},
   "outputs": [],
   "source": [
    "# or we can use a simpler API\n",
    "model = nn.Sequential(\n",
    "    nn.Linear(11, 64, bias=True),\n",
    "    nn.ReLU(),\n",
    "    nn.Linear(64, 64, bias=True),\n",
    "    nn.ReLU(),\n",
    "    nn.Linear(64, 1, bias=True)\n",
    ")"
   ]
  },
  {
   "cell_type": "code",
   "execution_count": 75,
   "id": "dd85cc92-ad36-4c81-896e-9dc2b0ebc8e6",
   "metadata": {},
   "outputs": [
    {
     "data": {
      "text/plain": [
       "Sequential(\n",
       "  (0): Linear(in_features=11, out_features=64, bias=True)\n",
       "  (1): ReLU()\n",
       "  (2): Linear(in_features=64, out_features=64, bias=True)\n",
       "  (3): ReLU()\n",
       "  (4): Linear(in_features=64, out_features=1, bias=True)\n",
       ")"
      ]
     },
     "execution_count": 75,
     "metadata": {},
     "output_type": "execute_result"
    }
   ],
   "source": [
    "model"
   ]
  },
  {
   "cell_type": "code",
   "execution_count": 76,
   "id": "e44120c6-9768-48a7-a39e-9ec012c9ae4d",
   "metadata": {},
   "outputs": [
    {
     "name": "stdout",
     "output_type": "stream",
     "text": [
      "            0.weight: shape=(64, 11), torch.float32, cpu\n",
      "              0.bias: shape=(64,), torch.float32, cpu\n",
      "            2.weight: shape=(64, 64), torch.float32, cpu\n",
      "              2.bias: shape=(64,), torch.float32, cpu\n",
      "            4.weight: shape=(1, 64), torch.float32, cpu\n",
      "              4.bias: shape=(1,), torch.float32, cpu\n"
     ]
    }
   ],
   "source": [
    "for name, parameter in model.named_parameters():\n",
    "    shape = tuple(parameter.shape)\n",
    "    print(f'{name: >20s}: {shape=}, {parameter.dtype}, {parameter.device}')"
   ]
  },
  {
   "cell_type": "code",
   "execution_count": 77,
   "id": "dac03b5a-0738-41cf-87dc-87764adb2733",
   "metadata": {},
   "outputs": [
    {
     "name": "stdout",
     "output_type": "stream",
     "text": [
      "num_parameters=4_993\n"
     ]
    }
   ],
   "source": [
    "num_parameters = sum(each.numel() for each in model.parameters())\n",
    "print(f'{num_parameters=:_d}')"
   ]
  },
  {
   "cell_type": "code",
   "execution_count": 78,
   "id": "70c58b75-0789-4896-a146-3d82c5009da9",
   "metadata": {},
   "outputs": [],
   "source": [
    "optimizer = SGD(\n",
    "    params=model.parameters(),\n",
    "    lr=1e-3\n",
    ")"
   ]
  },
  {
   "cell_type": "code",
   "execution_count": 79,
   "id": "60f10d58-b91c-4849-bcde-529b5a30d2fd",
   "metadata": {},
   "outputs": [],
   "source": [
    "criterion = nn.MSELoss()"
   ]
  },
  {
   "cell_type": "code",
   "execution_count": 80,
   "id": "1b00412e-7429-4adb-8e61-0a8717245eed",
   "metadata": {},
   "outputs": [],
   "source": [
    "optimizer = SGD(\n",
    "    params=model.parameters(),\n",
    "    lr=1e-3\n",
    ")"
   ]
  },
  {
   "cell_type": "code",
   "execution_count": 81,
   "id": "772809da-fb6e-405f-a164-df444ca76d8f",
   "metadata": {},
   "outputs": [],
   "source": [
    "train_loader = DataLoader(\n",
    "    dataset=train_set,\n",
    "    batch_size=64,\n",
    "    shuffle=True, # to do \"stochastic\" gradient descent\n",
    "    drop_last=True\n",
    ")\n",
    "\n",
    "val_loader = DataLoader(\n",
    "    dataset=val_set,\n",
    "    batch_size=64,\n",
    "    shuffle=False,\n",
    "    drop_last=False\n",
    ")"
   ]
  },
  {
   "cell_type": "code",
   "execution_count": 82,
   "id": "7a38c677-786c-41e0-80fc-9d0a030dc3e3",
   "metadata": {},
   "outputs": [
    {
     "name": "stdout",
     "output_type": "stream",
     "text": [
      "epoch=0\n",
      "epoch=1\n",
      "epoch=2\n",
      "epoch=3\n",
      "epoch=4\n",
      "epoch=5\n",
      "epoch=6\n",
      "epoch=7\n",
      "epoch=8\n",
      "epoch=9\n",
      "epoch=10\n"
     ]
    }
   ],
   "source": [
    "min_val_loss = float('inf')\n",
    "\n",
    "train_curve: list[dict[str, float]] = []\n",
    "val_curve: list[dict[str, float]] = []\n",
    "\n",
    "\n",
    "global_step = 0\n",
    "num_epochs = 10\n",
    "for epoch in range(num_epochs + 1):\n",
    "    print(f'{epoch=}')\n",
    "\n",
    "    model.eval()\n",
    "    val_loss = 0\n",
    "    with torch.no_grad():\n",
    "        for batch in val_loader:\n",
    "            x, y_true = batch\n",
    "            y_score = model(x)\n",
    "            loss = criterion(input=y_score, target=y_true)\n",
    "            val_loss += loss.item()\n",
    "        # divide \n",
    "    val_loss /= len(val_loader)\n",
    "    \n",
    "    val_curve.append({\n",
    "        'step': global_step,\n",
    "        'loss': val_loss,\n",
    "    })\n",
    "    \n",
    "\n",
    "    if epoch >= 1:\n",
    "        model.train()\n",
    "        for batch in train_loader:\n",
    "            x, y_true = batch\n",
    "        \n",
    "            optimizer.zero_grad()\n",
    "            y_score = model(x)\n",
    "            loss = criterion(input=y_score, target=y_true) \n",
    "    \n",
    "            # magic here\n",
    "            loss.backward()\n",
    "            optimizer.step()\n",
    "    \n",
    "            global_step += 1\n",
    "            train_curve.append({\n",
    "                'step': global_step,\n",
    "                'loss': loss.item()\n",
    "            })"
   ]
  },
  {
   "cell_type": "code",
   "execution_count": 83,
   "id": "e90888b1-9d1b-4a1e-b60c-94aa92a2d859",
   "metadata": {},
   "outputs": [],
   "source": [
    "train_curve = pd.DataFrame(train_curve)\n",
    "val_curve = pd.DataFrame(val_curve)"
   ]
  },
  {
   "cell_type": "code",
   "execution_count": 84,
   "id": "8bea30ed-c4d2-4202-9eec-9e18ccf14192",
   "metadata": {},
   "outputs": [
    {
     "data": {
      "text/plain": [
       "Text(0, 0.5, 'MSELoss')"
      ]
     },
     "execution_count": 84,
     "metadata": {},
     "output_type": "execute_result"
    },
    {
     "data": {
      "image/png": "[encoded data removed]",
      "text/plain": [
       "<Figure size 640x480 with 1 Axes>"
      ]
     },
     "metadata": {},
     "output_type": "display_data"
    }
   ],
   "source": [
    "fig, ax = plt.subplots()\n",
    "ax.plot(train_curve['step'], train_curve['loss'], label='Training', alpha=0.2)\n",
    "ax.plot(val_curve['step'], val_curve['loss'], label='Validation', marker='s', ls='--', lw=2)\n",
    "ax.legend()\n",
    "ax.set_xlabel('Training Step')\n",
    "ax.set_ylabel(criterion.__class__.__name__)"
   ]
  },
  {
   "cell_type": "code",
   "execution_count": null,
   "id": "94a0a91c-65ff-4b6f-9056-6a1fabfb9f50",
   "metadata": {},
   "outputs": [],
   "source": []
  }
 ],
 "metadata": {
  "kernelspec": {
   "display_name": "lec-24-2-dl",
   "language": "python",
   "name": "lec-24-2-dl"
  },
  "language_info": {
   "codemirror_mode": {
    "name": "ipython",
    "version": 3
   },
   "file_extension": ".py",
   "mimetype": "text/x-python",
   "name": "python",
   "nbconvert_exporter": "python",
   "pygments_lexer": "ipython3",
   "version": "3.11.10"
  }
 },
 "nbformat": 4,
 "nbformat_minor": 5
}
